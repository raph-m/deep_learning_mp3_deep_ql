{
 "cells": [
  {
   "cell_type": "markdown",
   "metadata": {},
   "source": [
    "**You may need to install [OpenCV](https://pypi.python.org/pypi/opencv-python) and [scikit-video](http://www.scikit-video.org/stable/).**"
   ]
  },
  {
   "cell_type": "code",
   "execution_count": 1,
   "metadata": {},
   "outputs": [
    {
     "name": "stderr",
     "output_type": "stream",
     "text": [
      "Using TensorFlow backend.\n"
     ]
    }
   ],
   "source": [
    "import keras\n",
    "import numpy as np\n",
    "import io\n",
    "import base64\n",
    "from IPython.display import HTML\n",
    "import skvideo.io\n",
    "import cv2\n",
    "import json\n",
    "\n",
    "from keras.models import Sequential,model_from_json\n",
    "from keras.layers.core import Dense\n",
    "from keras.optimizers import sgd\n",
    "from keras.layers import Conv2D, MaxPooling2D, Activation, AveragePooling2D,Reshape,BatchNormalization"
   ]
  },
  {
   "cell_type": "markdown",
   "metadata": {},
   "source": [
    "# MiniProject #3: Deep Reinforcement Learning"
   ]
  },
  {
   "cell_type": "markdown",
   "metadata": {},
   "source": [
    "__Notations__: $E_p$ is the expectation under probability $p$. Please justify each of your answer and widely comment your code."
   ]
  },
  {
   "cell_type": "markdown",
   "metadata": {},
   "source": [
    "# Context"
   ]
  },
  {
   "cell_type": "markdown",
   "metadata": {},
   "source": [
    "In a reinforcement learning algorithm, we modelize each step $t$ as an action $a_t$ obtained from a state $s_t$, i.e. $\\{(a_{t},s_{t})_{t\\leq T}\\}$ having the Markov property. We consider a discount factor $\\gamma \\in [0,1]$ that ensures convergence. The goal is to find among all the policies $\\pi$, one that maximizes the expected reward:\n",
    "\n",
    "\\begin{equation*}\n",
    "R(\\pi)=\\sum_{t\\leq T}E_{p^{\\pi}}[\\gamma^t r(s_{t},a_{t})] \\> ,\n",
    "\\end{equation*}\n",
    "\n",
    "where: \n",
    "\\begin{equation*}p^{\\pi}(a_{0},a_{1},s_{1},...,a_{T},s_{T})=p(a_{0})\\prod_{t=1}^{T}\\pi(a_{t}|s_{t})p(s_{t+1}|s_{t},a_{t}) \\> .\n",
    "\\end{equation*}\n",
    "\n",
    "We note the $Q$-function:\n",
    "\n",
    "\\begin{equation*}Q^\\pi(s,a)=E_{p^{\\pi}}[\\sum_{t\\leq T}\\gamma^{t}r(s_{t},a_{t})|s_{0}=s,a_{0}=a] \\> .\n",
    "\\end{equation*}\n",
    "\n",
    "Thus, the optimal Q function is:\n",
    "\\begin{equation*}\n",
    "Q^*(s,a)=\\max_{\\pi}Q^\\pi(s,a) \\> .\n",
    "\\end{equation*}\n",
    "\n",
    "In this project, we will apply the deep reinforcement learning techniques to a simple game: an agent will have to learn from scratch a policy that will permit it maximizing a reward."
   ]
  },
  {
   "cell_type": "markdown",
   "metadata": {},
   "source": [
    "## The environment, the agent and the game"
   ]
  },
  {
   "cell_type": "markdown",
   "metadata": {},
   "source": [
    "### The environment"
   ]
  },
  {
   "cell_type": "markdown",
   "metadata": {},
   "source": [
    "```Environment``` is an abstract class that represents the states, rewards, and actions to obtain the new state."
   ]
  },
  {
   "cell_type": "code",
   "execution_count": 2,
   "metadata": {},
   "outputs": [],
   "source": [
    "class Environment(object):\n",
    "    def __init__(self):\n",
    "        pass\n",
    "\n",
    "    def act(self, act):\n",
    "        \"\"\"\n",
    "        One can act on the environment and obtain its reaction:\n",
    "        - the new state\n",
    "        - the reward of the new state\n",
    "        - should we continue the game?\n",
    "\n",
    "        :return: state, reward, game_over\n",
    "        \"\"\"\n",
    "        pass\n",
    "\n",
    "\n",
    "    def reset(self):\n",
    "        \"\"\"\n",
    "        Reinitialize the environment to a random state and returns\n",
    "        the original state\n",
    "\n",
    "        :return: state\n",
    "        \"\"\"\n",
    "        pass\n",
    "    \n",
    "    def draw(self):\n",
    "        \"\"\"\n",
    "        Visualize in the console or graphically the current state\n",
    "        \"\"\"\n",
    "        pass"
   ]
  },
  {
   "cell_type": "markdown",
   "metadata": {},
   "source": [
    "The method ```act``` allows to act on the environment at a given state $s_t$ (stored internally), via action $a_t$. The method will return the new state $s_{t+1}$, the reward $r(s_{t},a_{t})$ and determines if $t\\leq T$ (*game_over*).\n",
    "\n",
    "The method ```reset``` simply reinitializes the environment to a random state $s_0$.\n",
    "\n",
    "The method ```draw``` displays the current state $s_t$ (this is useful to check the behavior of the Agent).\n",
    "\n",
    "We modelize $s_t$ as a tensor, while $a_t$ is an integer."
   ]
  },
  {
   "cell_type": "markdown",
   "metadata": {},
   "source": [
    "### The Agent"
   ]
  },
  {
   "cell_type": "markdown",
   "metadata": {},
   "source": [
    "The goal of the ```Agent``` is to interact with the ```Environment``` by proposing actions $a_t$ obtained from a given state $s_t$ to attempt to maximize its __reward__ $r(s_t,a_t)$. We propose the following abstract class:"
   ]
  },
  {
   "cell_type": "code",
   "execution_count": 3,
   "metadata": {},
   "outputs": [],
   "source": [
    "class Agent(object):\n",
    "    def __init__(self, epsilon=0.1, n_action=4):\n",
    "        self.epsilon = epsilon\n",
    "        self.n_action = n_action\n",
    "    \n",
    "    def set_epsilon(self, e):\n",
    "        self.epsilon = e\n",
    "\n",
    "    def act(self, s, train=True):\n",
    "        \"\"\" This function should return the next action to do:\n",
    "        an integer between 0 and 4 (not included) with a random exploration of epsilon\"\"\"\n",
    "        if train:\n",
    "            if np.random.rand() <= self.epsilon:\n",
    "                a = np.random.randint(0, self.n_action, size=1)[0]\n",
    "            else:\n",
    "                a = self.learned_act(s)\n",
    "        else: # in some cases, this can improve the performance.. remove it if poor performances\n",
    "            a = self.learned_act(s)\n",
    "\n",
    "        return a\n",
    "\n",
    "    def learned_act(self, s):\n",
    "        \"\"\" Act via the policy of the agent, from a given state s\n",
    "        it proposes an action a\"\"\"\n",
    "        pass\n",
    "\n",
    "    def reinforce(self, s, n_s, a, r, game_over_):\n",
    "        \"\"\" This function is the core of the learning algorithm. \n",
    "        It takes as an input the current state s_, the next state n_s_\n",
    "        the action a_ used to move from s_ to n_s_ and the reward r_.\n",
    "        \n",
    "        Its goal is to learn a policy.\n",
    "        \"\"\"\n",
    "        pass\n",
    "\n",
    "    def save(self):\n",
    "        \"\"\" This function returns basic stats if applicable: the\n",
    "        loss and/or the model\"\"\"\n",
    "        pass\n",
    "\n",
    "    def load(self):\n",
    "        \"\"\" This function allows to restore a model\"\"\"\n",
    "        pass"
   ]
  },
  {
   "cell_type": "markdown",
   "metadata": {},
   "source": [
    "***\n",
    "__Question 1__:\n",
    "Explain the function act. Why is ```epsilon``` essential?"
   ]
  },
  {
   "cell_type": "markdown",
   "metadata": {},
   "source": [
    "The goal is to choose and action according to what the agent has learned until now. This is why we are returning `self.learned_act(s)`. But there is an `epsilon` chance that we return a random action. Indeed, as the saying goes: \"only fools never change their minds\", so the agent should try something new in order to explore the state-action space and improve it's policy."
   ]
  },
  {
   "cell_type": "markdown",
   "metadata": {},
   "source": [
    "***\n",
    "### The Game"
   ]
  },
  {
   "cell_type": "markdown",
   "metadata": {},
   "source": [
    "The ```Agent``` and the ```Environment``` work in an interlaced way as in the following (take some time to understand this code as it is the core of the project)\n",
    "\n",
    "```python\n",
    "\n",
    "epoch = 300\n",
    "env = Environment()\n",
    "agent = Agent()\n",
    "\n",
    "\n",
    "# Number of won games\n",
    "score = 0\n",
    "loss = 0\n",
    "\n",
    "\n",
    "for e in range(epoch):\n",
    "    # At each epoch, we restart to a fresh game and get the initial state\n",
    "    state = env.reset()\n",
    "    # This assumes that the games will end\n",
    "    game_over = False\n",
    "\n",
    "    win = 0\n",
    "    lose = 0\n",
    "    \n",
    "    while not game_over:\n",
    "        # The agent performs an action\n",
    "        action = agent.act(state)\n",
    "\n",
    "        # Apply an action to the environment, get the next state, the reward\n",
    "        # and if the games end\n",
    "        prev_state = state\n",
    "        state, reward, game_over = env.act(action)\n",
    "\n",
    "        # Update the counters\n",
    "        if reward > 0:\n",
    "            win = win + reward\n",
    "        if reward < 0:\n",
    "            lose = lose -reward\n",
    "\n",
    "        # Apply the reinforcement strategy\n",
    "        loss = agent.reinforce(prev_state, state,  action, reward, game_over)\n",
    "\n",
    "    # Save as a mp4\n",
    "    if e % 10 == 0:\n",
    "        env.draw(e)\n",
    "\n",
    "    # Update stats\n",
    "    score += win-lose\n",
    "\n",
    "    print(\"Epoch {:03d}/{:03d} | Loss {:.4f} | Win/lose count {}/{} ({})\"\n",
    "          .format(e, epoch, loss, win, lose, win-lose))\n",
    "    agent.save()\n",
    "```"
   ]
  },
  {
   "cell_type": "markdown",
   "metadata": {},
   "source": [
    "# The game, *eat cheese*"
   ]
  },
  {
   "cell_type": "markdown",
   "metadata": {},
   "source": [
    "A rat runs on an island and tries to eat as much as possible. The island is subdivided into $N\\times N$ cells, in which there are cheese (+0.5) and poisonous cells (-1). The rat has a visibility of 2 cells (thus it can see $5^2$ cells). The rat is given a time $T$ to accumulate as much food as possible. It can perform 4 actions: going up, down, left, right. \n",
    "\n",
    "The goal is to code an agent to solve this task that will learn by trial and error. We propose the following environment:"
   ]
  },
  {
   "cell_type": "code",
   "execution_count": 4,
   "metadata": {},
   "outputs": [],
   "source": [
    "class Environment(object):\n",
    "    def __init__(self, grid_size=10, max_time=500, temperature=0.1):\n",
    "        grid_size = grid_size + 4\n",
    "        self.grid_size = grid_size\n",
    "        self.max_time = max_time\n",
    "        self.temperature = temperature\n",
    "\n",
    "        #board on which one plays\n",
    "        self.board = np.zeros((grid_size, grid_size))\n",
    "        self.position = np.zeros((grid_size, grid_size))\n",
    "\n",
    "        # coordinate of the cat\n",
    "        self.x = 0\n",
    "        self.y = 1\n",
    "\n",
    "        # self time\n",
    "        self.t = 0\n",
    "\n",
    "        self.scale=16\n",
    "\n",
    "        self.to_draw = np.zeros((max_time + 2, grid_size * self.scale, grid_size * self.scale, 3))\n",
    "\n",
    "\n",
    "    def draw(self,e):\n",
    "        skvideo.io.vwrite(str(e) + '.mp4', self.to_draw)\n",
    "\n",
    "    def get_frame(self,t):\n",
    "        b = np.zeros((self.grid_size, self.grid_size,3)) + 128\n",
    "        b[self.board > 0, 0] = 256\n",
    "        b[self.board < 0, 2] = 256\n",
    "        b[self.x, self.y, :] = 256\n",
    "        b[-2:, :, :] = 0\n",
    "        b[:, -2:, :] = 0\n",
    "        b[:2, :, :] = 0\n",
    "        b[:, :2, :] = 0\n",
    "        \n",
    "        b =  cv2.resize(b, None, fx=self.scale, fy=self.scale, interpolation=cv2.INTER_NEAREST)\n",
    "\n",
    "        self.to_draw[t, :, :, :] = b\n",
    "\n",
    "\n",
    "    def act(self, action):\n",
    "        \"\"\"This function returns the new state, reward and decides if the\n",
    "        game ends.\"\"\"\n",
    "\n",
    "        self.get_frame(int(self.t))\n",
    "\n",
    "        self.position = np.zeros((self.grid_size, self.grid_size))\n",
    "\n",
    "        self.position[0:2,:]= -1\n",
    "        self.position[:,0:2] = -1\n",
    "        self.position[-2:, :] = -1\n",
    "        self.position[-2:, :] = -1\n",
    "\n",
    "        self.position[self.x, self.y] = 1\n",
    "        if action == 0:\n",
    "            if self.x == self.grid_size-3:\n",
    "                self.x = self.x-1\n",
    "            else:\n",
    "                self.x = self.x + 1\n",
    "        elif action == 1:\n",
    "            if self.x == 2:\n",
    "                self.x = self.x+1\n",
    "            else:\n",
    "                self.x = self.x-1\n",
    "        elif action == 2:\n",
    "            if self.y == self.grid_size - 3:\n",
    "                self.y = self.y - 1\n",
    "            else:\n",
    "                self.y = self.y + 1\n",
    "        elif action == 3:\n",
    "            if self.y == 2:\n",
    "                self.y = self.y + 1\n",
    "            else:\n",
    "                self.y = self.y - 1\n",
    "        else:\n",
    "            RuntimeError('Error: action not recognized')\n",
    "\n",
    "        self.t = self.t + 1\n",
    "        reward = self.board[self.x, self.y]\n",
    "        self.board[self.x, self.y] = 0\n",
    "        game_over = self.t > self.max_time\n",
    "        state = np.concatenate(\n",
    "            (\n",
    "                self.board.reshape(self.grid_size, self.grid_size,1),\n",
    "                self.position.reshape(self.grid_size, self.grid_size,1)\n",
    "            ),\n",
    "            axis=2\n",
    "        )\n",
    "        state = state[self.x - 2: self.x + 3, self.y - 2: self.y + 3, :]\n",
    "\n",
    "        return state, reward, game_over\n",
    "\n",
    "    def reset(self):\n",
    "        \"\"\"This function resets the game and returns the initial state\"\"\"\n",
    "\n",
    "        self.x = np.random.randint(3, self.grid_size-3, size=1)[0]\n",
    "        self.y = np.random.randint(3, self.grid_size-3, size=1)[0]\n",
    "\n",
    "\n",
    "        bonus = 0.5 * np.random.binomial(1, self.temperature, size=self.grid_size ** 2)\n",
    "        bonus = bonus.reshape(self.grid_size, self.grid_size)\n",
    "\n",
    "        malus = -1.0 * np.random.binomial(1, self.temperature, size=self.grid_size ** 2)\n",
    "        malus = malus.reshape(self.grid_size, self.grid_size)\n",
    "\n",
    "        self.to_draw = np.zeros((self.max_time + 2, self.grid_size * self.scale, self.grid_size * self.scale, 3))\n",
    "\n",
    "\n",
    "        malus[bonus > 0]=0\n",
    "\n",
    "        self.board = bonus + malus\n",
    "\n",
    "        self.position = np.zeros((self.grid_size, self.grid_size))\n",
    "        self.position[0:2,:]= -1\n",
    "        self.position[:,0:2] = -1\n",
    "        self.position[-2:, :] = -1\n",
    "        self.position[-2:, :] = -1\n",
    "        self.board[self.x,self.y] = 0\n",
    "        self.t = 0\n",
    "\n",
    "        state = np.concatenate(\n",
    "            (\n",
    "                self.board.reshape(self.grid_size, self.grid_size,1),\n",
    "                self.position.reshape(self.grid_size, self.grid_size,1)\n",
    "            ),\n",
    "            axis=2\n",
    "        )\n",
    "\n",
    "        state = state[self.x - 2:self.x + 3, self.y - 2:self.y + 3, :]\n",
    "        return state"
   ]
  },
  {
   "cell_type": "markdown",
   "metadata": {},
   "source": [
    "The following elements are important because they correspond to the hyper parameters for this project:"
   ]
  },
  {
   "cell_type": "code",
   "execution_count": 5,
   "metadata": {},
   "outputs": [],
   "source": [
    "# parameters\n",
    "size = 13\n",
    "T = 200\n",
    "temperature = 0.3\n",
    "epochs_train = 30 # set small when debugging\n",
    "epochs_test = 30 # set small when debugging\n",
    "\n",
    "# display videos\n",
    "def display_videos(name):\n",
    "    video = io.open(name, 'r+b').read()\n",
    "    encoded = base64.b64encode(video)\n",
    "    return '''<video alt=\"test\" controls>\n",
    "                <source src=\"data:video/mp4;base64,{0}\" type=\"video/mp4\" />\n",
    "             </video>'''.format(encoded.decode('ascii'))"
   ]
  },
  {
   "cell_type": "markdown",
   "metadata": {},
   "source": [
    "__Question 2__ Explain the use of the arrays ```position``` and ```board```."
   ]
  },
  {
   "cell_type": "markdown",
   "metadata": {},
   "source": [
    "The board attribute reprensents the rewards displayed on the grid (cheese and poison), as we can see in the `reset` function. We can see that the rewards are stored in the board attribute in the `act` method: `reward = self.board[self.x, self.y]` and this line `self.board[self.x, self.y] = 0` shows that once an object has been consumed, it disappears.\n",
    "\n",
    "It looks like the agent is getting two different information about the board (he is returned two $5*5$ arrays). First, he is getting information about his position, he is at the center of the array, his previous position is marked by a 1. All other positions are marked as 0 except if they are on the \"border\", then they are marked as -1. This is important for the agent, since he cannot cross the border, if he attempts to do it, his position will be moved in the opposed direction. This way he can understand when he is heading towards a border and if he should avoid it."
   ]
  },
  {
   "cell_type": "markdown",
   "metadata": {},
   "source": [
    "## Random Agent"
   ]
  },
  {
   "cell_type": "markdown",
   "metadata": {},
   "source": [
    "***\n",
    "__Question 3__ Implement a random Agent (only ```learned_act``` needs to be implemented):"
   ]
  },
  {
   "cell_type": "code",
   "execution_count": 6,
   "metadata": {},
   "outputs": [],
   "source": [
    "class RandomAgent(Agent):\n",
    "    def __init__(self):\n",
    "        super(RandomAgent, self).__init__()\n",
    "        pass\n",
    "\n",
    "    def learned_act(self, s):\n",
    "        a = np.random.randint(0, self.n_action, size=1)[0]\n",
    "        return a"
   ]
  },
  {
   "cell_type": "markdown",
   "metadata": {},
   "source": [
    "***\n",
    "***\n",
    "__Question 4__ Visualize the game moves. You need to fill in the following function for the evaluation:"
   ]
  },
  {
   "cell_type": "code",
   "execution_count": 7,
   "metadata": {},
   "outputs": [],
   "source": [
    "def test(agent, env, epochs, prefix=''):\n",
    "    # Number of won games\n",
    "    score = 0\n",
    "        \n",
    "    for e in range(epochs):\n",
    "        state = env.reset()\n",
    "        game_over = False\n",
    "\n",
    "        win = 0\n",
    "        lose = 0\n",
    "\n",
    "        while not game_over:\n",
    "            action = agent.act(state)\n",
    "            prev_state = state\n",
    "            state, reward, game_over = env.act(action)\n",
    "\n",
    "            if reward > 0:\n",
    "                win = win + reward\n",
    "            if reward < 0:\n",
    "                lose = lose - reward\n",
    "\n",
    "        env.draw(prefix + str(e))\n",
    "\n",
    "        score += win-lose\n",
    "        \n",
    "        print(\"Win/lose count {}/{}. Average score ({})\"\n",
    "              .format(win, lose, score / (1 + e)))\n",
    "    print('Final score: ' + str(score / epochs))"
   ]
  },
  {
   "cell_type": "code",
   "execution_count": 14,
   "metadata": {
    "scrolled": true
   },
   "outputs": [
    {
     "name": "stdout",
     "output_type": "stream",
     "text": [
      "Win/lose count 9.0/12.0. Average score (-3.0)\n",
      "Win/lose count 11.0/16.0. Average score (-4.0)\n",
      "Win/lose count 10.5/11.0. Average score (-2.8333333333333335)\n",
      "Win/lose count 8.5/10.0. Average score (-2.5)\n",
      "Win/lose count 10.0/15.0. Average score (-3.0)\n",
      "Win/lose count 9.5/14.0. Average score (-3.25)\n",
      "Win/lose count 10.0/9.0. Average score (-2.642857142857143)\n",
      "Win/lose count 9.0/10.0. Average score (-2.4375)\n",
      "Win/lose count 13.0/20.0. Average score (-2.9444444444444446)\n",
      "Win/lose count 6.0/9.0. Average score (-2.95)\n",
      "Win/lose count 9.0/11.0. Average score (-2.8636363636363638)\n",
      "Win/lose count 7.0/18.0. Average score (-3.5416666666666665)\n",
      "Win/lose count 9.5/11.0. Average score (-3.3846153846153846)\n",
      "Win/lose count 11.0/15.0. Average score (-3.4285714285714284)\n",
      "Win/lose count 9.5/12.0. Average score (-3.3666666666666667)\n",
      "Win/lose count 14.5/13.0. Average score (-3.0625)\n",
      "Win/lose count 12.0/19.0. Average score (-3.2941176470588234)\n",
      "Win/lose count 10.5/15.0. Average score (-3.361111111111111)\n",
      "Win/lose count 10.0/11.0. Average score (-3.236842105263158)\n",
      "Win/lose count 9.0/14.0. Average score (-3.325)\n",
      "Win/lose count 13.5/11.0. Average score (-3.0476190476190474)\n",
      "Win/lose count 8.5/8.0. Average score (-2.8863636363636362)\n",
      "Win/lose count 6.5/12.0. Average score (-3.0)\n",
      "Win/lose count 8.0/14.0. Average score (-3.125)\n",
      "Win/lose count 8.5/17.0. Average score (-3.34)\n",
      "Win/lose count 11.5/16.0. Average score (-3.3846153846153846)\n",
      "Win/lose count 15.0/16.0. Average score (-3.2962962962962963)\n",
      "Win/lose count 12.5/16.0. Average score (-3.3035714285714284)\n",
      "Win/lose count 10.0/14.0. Average score (-3.3275862068965516)\n",
      "Win/lose count 8.5/11.0. Average score (-3.3)\n",
      "Final score: -3.3\n"
     ]
    },
    {
     "data": {
      "text/html": [
       "<video alt=\"test\" controls>\n",
       "                <source src=\"data:video/mp4;base64,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\" type=\"video/mp4\" />\n",
       "             </video>"
      ],
      "text/plain": [
       "<IPython.core.display.HTML object>"
      ]
     },
     "execution_count": 14,
     "metadata": {},
     "output_type": "execute_result"
    }
   ],
   "source": [
    "# Initialize the game\n",
    "env = Environment(grid_size=size, max_time=T, temperature=temperature)\n",
    "\n",
    "# Initialize the agent!\n",
    "agent = RandomAgent()\n",
    "\n",
    "test(agent,env ,epochs_test, prefix='random')\n",
    "HTML(display_videos('random0.mp4'))"
   ]
  },
  {
   "cell_type": "markdown",
   "metadata": {},
   "source": [
    "***\n",
    "## DQN"
   ]
  },
  {
   "cell_type": "markdown",
   "metadata": {},
   "source": [
    "Let us assume here that $T=\\infty$.\n",
    "\n",
    "***\n",
    "__Question 5__ Let $\\pi$ be a policy, show that:\n",
    "\n",
    "\\begin{equation*}\n",
    "Q^{\\pi}(s,a)=E_{(s',a')\\sim p(.|s,a)}[r(s,a)+\\gamma Q^{\\pi}(s',a')]\n",
    "\\end{equation*}\n",
    "\n",
    "Then, show that for the optimal policy $\\pi^*$ (we assume its existence), the following holds: \n",
    "\n",
    "\\begin{equation*}\n",
    "Q^{*}(s,a)=E_{s'\\sim \\pi^*(.|s,a)}[r(s,a)+\\gamma\\max_{a'}Q^{*}(s',a')].\n",
    "\\end{equation*}\n",
    "Finally, deduce that a plausible objective is:\n",
    "\n",
    "\\begin{equation*}\n",
    "\\mathcal{L}(\\theta)=E_{s' \\sim \\pi^*(.|s,a)}\\Vert r+\\gamma\\max\\max_{a'}Q(s',a',\\theta)-Q(s,a,\\theta)\\Vert^{2}.\n",
    "\\end{equation*}\n",
    "\n",
    "\n"
   ]
  },
  {
   "cell_type": "markdown",
   "metadata": {},
   "source": [
    "## my answer:\n",
    "\n",
    "\\begin{equation*}Q^\\pi(s,a)=E_{p^{\\pi}}[\\sum_{t\\leq \\infty}\\gamma^{t}r(s_{t},a_{t})|s_{0}=s,a_{0}=a] \\> .\n",
    "\\end{equation*}\n",
    "\n",
    "$$ Q^\\pi(s,a)=r(s, a) + E_{p^{\\pi}}[\\sum_{1\\leq t\\leq \\infty}\\gamma^{t}r(s_{t},a_{t})|s_{0}=s,a_{0}=a]$$\n",
    "\n",
    "$$ Q^\\pi(s,a)=r(s, a) + E_{(s',a')\\sim p(.|s,a)}[E_{p^\\pi}[\\sum_{1\\leq t\\leq \\infty}\\gamma^{t}r(s_{t},a_{t})|s_{1}=s',a_{1}=a']|s_0=s, a_0=a]$$\n",
    "\n",
    "$$ Q^\\pi(s,a)=r(s, a) + E_{(s',a')\\sim p(.|s,a)}[E_{p^\\pi}[\\sum_{1\\leq t\\leq \\infty}\\gamma^{t}r(s_{t},a_{t})|s_{1}=s',a_{1}=a']]$$\n",
    "\n",
    "$$ Q^\\pi(s,a)=r(s, a) + E_{(s',a')\\sim p(.|s,a)}[E_{p^\\pi}[\\sum_{0\\leq t\\leq \\infty}\\gamma^{t+1}r(s_{t},a_{t})|s_{0}=s',a_{0}=a']]$$\n",
    "\n",
    "$$ Q^\\pi(s,a)=r(s, a) + E_{(s',a')\\sim p(.|s,a)}[\\gamma * Q^{\\pi}(s', a')]$$\n",
    "\n",
    "$$Q^{\\pi}(s,a)=E_{(s',a')\\sim p(.|s,a)}[r(s,a)+\\gamma Q^{\\pi}(s',a')]$$\n",
    "\n",
    "From the first question, we have:\n",
    "$$Q^{*}(s,a)=E_{(s',a')\\sim p(.|s,a)}[r(s,a)+\\gamma Q^{*}(s',a')]$$\n",
    "\n",
    "Since Q* is optimal, it must be that $\\pi^{*}(s') = argmax(Q^{*}(s', .))$ with probability $1$. Or else the agent having the exact same policy as $\\pi^{*}$ but with $\\pi^{*}(s') = argmax(Q^{*}(s', .))$ with probability $1$ would be better than the optimal agent. Therefore:\n",
    "$$Q^{*}(s,a)=E_{s'\\sim \\pi^*(.|s,a)}[r(s,a)+\\gamma\\max_{a'}Q^{*}(s',a')]$$\n",
    "\n",
    "Since the above equation is respected by the optimal agent and we want to approach this agent, our agent should respect the equation too. Fixing this objective $\\mathcal{L}(\\theta)$ seems like a reasonnable approach."
   ]
  },
  {
   "cell_type": "markdown",
   "metadata": {},
   "source": [
    "***\n",
    "The DQN-learning algorithm relies on these derivations to train the parameters $\\theta$ of a Deep Neural Network:\n",
    "\n",
    "1. At the state $s_t$, select the action $a_t$ with best reward using $Q_t$ and store the results;\n",
    "\n",
    "2. Obtain the new state $s_{t+1}$ from the environment $p$;\n",
    "\n",
    "3. Store $(s_t,a_t,s_{t+1})$;\n",
    "\n",
    "4. Obtain $Q_{t+1}$ by minimizing  $\\mathcal{L}$ from a recovered batch from the previously stored results.\n",
    "\n",
    "***\n",
    "__Question 6__ Implement the class ```Memory``` that stores moves (in a replay buffer) via ```remember``` and provides a ```random_access``` to these. Specify a maximum memory size to avoid side effects. You can for example use a ```list()``` and set by default ```max_memory=100```."
   ]
  },
  {
   "cell_type": "code",
   "execution_count": 8,
   "metadata": {},
   "outputs": [],
   "source": [
    "class Memory(object):\n",
    "    def __init__(self, max_memory=100, batch_size=64):\n",
    "        self.max_memory = max_memory\n",
    "        self.memory = list()\n",
    "        self.batch_size = batch_size\n",
    "\n",
    "    def remember(self, m):\n",
    "        self.memory.append(m)\n",
    "        if len(self.memory) > self.max_memory:\n",
    "            self.memory.pop(0)\n",
    "\n",
    "    def random_access(self):\n",
    "        choice = np.random.choice(range(len(self.memory)))\n",
    "        chosen = self.memory[choice]\n",
    "        return chosen"
   ]
  },
  {
   "cell_type": "markdown",
   "metadata": {},
   "source": [
    "***\n",
    "The pipeline we will use for training is given below:"
   ]
  },
  {
   "cell_type": "code",
   "execution_count": 9,
   "metadata": {},
   "outputs": [],
   "source": [
    "def train(agent,env,epoch,prefix=''):\n",
    "    # Number of won games\n",
    "    score = 0\n",
    "    loss = 0\n",
    "\n",
    "    for e in range(epoch):\n",
    "        # At each epoch, we restart to a fresh game and get the initial state\n",
    "        state = env.reset()\n",
    "        # This assumes that the games will terminate\n",
    "        game_over = False\n",
    "\n",
    "        win = 0\n",
    "        lose = 0\n",
    "\n",
    "        while not game_over:\n",
    "            # The agent performs an action\n",
    "            action = agent.act(state)\n",
    "            \n",
    "            # Apply an action to the environment, get the next state, the reward\n",
    "            # and if the games end\n",
    "            prev_state = state\n",
    "            state, reward, game_over = env.act(action)\n",
    "\n",
    "            # Update the counters\n",
    "            if reward > 0:\n",
    "                win = win + reward\n",
    "            if reward < 0:\n",
    "                lose = lose -reward\n",
    "\n",
    "            # Apply the reinforcement strategy\n",
    "            loss = agent.reinforce(prev_state, state,  action, reward, game_over)\n",
    "\n",
    "        # Save as a mp4\n",
    "        if e % 10 == 0:\n",
    "            env.draw(prefix+str(e))\n",
    "\n",
    "        # Update stats\n",
    "        score += win-lose\n",
    "\n",
    "        print(\"Epoch {:03d}/{:03d} | Loss {:.4f} | Win/lose count {}/{} ({})\"\n",
    "              .format(e, epoch, loss, win, lose, win-lose))\n",
    "        agent.save(name_weights=prefix+'model.h5',name_model=prefix+'model.json')"
   ]
  },
  {
   "cell_type": "markdown",
   "metadata": {},
   "source": [
    "***\n",
    "__Question 7__ Implement the DQN training algorithm using a cascade of fully connected layers. You can use different learning rate, batch size or memory size parameters. In particular, the loss might oscillate while the player will start to win the games. You have to find a good criterium."
   ]
  },
  {
   "cell_type": "code",
   "execution_count": 16,
   "metadata": {},
   "outputs": [],
   "source": [
    "class DQN(Agent):\n",
    "    def __init__(self, grid_size, epsilon = 0.1, memory_size=100, batch_size = 16,n_state=2):\n",
    "        super(DQN, self).__init__(epsilon=epsilon)\n",
    "\n",
    "        # Discount for Q learning\n",
    "        self.discount = 0.9\n",
    "        \n",
    "        self.grid_size = grid_size\n",
    "        \n",
    "        # number of state\n",
    "        self.n_state = n_state\n",
    "\n",
    "        # Memory\n",
    "        self.memory = Memory(memory_size)\n",
    "        \n",
    "        # Batch size when learning\n",
    "        self.batch_size = batch_size\n",
    "\n",
    "    def learned_act(self, s):\n",
    "        return np.argmax(self.model.predict(np.expand_dims(s, axis=0))[0])\n",
    "\n",
    "    def reinforce(self, s_, n_s_, a_, r_, game_over_):\n",
    "        # Two steps: first memorize the states, second learn from the pool\n",
    "\n",
    "        self.memory.remember([s_, n_s_, a_, r_, game_over_])\n",
    "        \n",
    "        input_states = np.zeros((self.batch_size, 5, 5, self.n_state))\n",
    "        new_states = np.zeros((self.batch_size, 5, 5, self.n_state))\n",
    "        target_q = np.zeros((self.batch_size, 4))\n",
    "        actions = np.zeros(self.batch_size).astype(int)\n",
    "        rewards = np.zeros(self.batch_size)\n",
    "\n",
    "        for i in range(self.batch_size):\n",
    "            s, n_s, a, r, game_over = self.memory.random_access()\n",
    "            input_states[i, :, :, :] = s\n",
    "            new_states[i, :, :, :] = n_s\n",
    "            actions[i] = a\n",
    "            rewards[i] = r\n",
    "\n",
    "        target_q = self.model.predict(input_states)\n",
    "        next_q = self.model.predict(new_states)\n",
    "        best_q = np.max(next_q, axis=1)\n",
    "        target_q[np.arange(self.batch_size), actions] = rewards + self.discount * best_q\n",
    "\n",
    "        ######## FILL IN\n",
    "        # HINT: Clip the target to avoid exploiding gradients.. -- clipping is a bit tighter\n",
    "        target_q = np.clip(target_q, -3, 3)\n",
    "\n",
    "        start = time.time()\n",
    "        l = self.model.train_on_batch(input_states, target_q)\n",
    "        end = time.time()\n",
    "        return l\n",
    "\n",
    "    def save(self,name_weights='model.h5',name_model='model.json'):\n",
    "        self.model.save_weights(name_weights, overwrite=True)\n",
    "        with open(name_model, \"w\") as outfile:\n",
    "            json.dump(self.model.to_json(), outfile)\n",
    "            \n",
    "    def load(self,name_weights='model.h5',name_model='model.json'):\n",
    "        with open(name_model, \"r\") as jfile:\n",
    "            model = model_from_json(json.load(jfile))\n",
    "        model.load_weights(name_weights)\n",
    "        model.compile(\"sgd\", \"mse\")\n",
    "        self.model = model\n",
    "\n",
    "from keras.models import Model\n",
    "from keras.layers import Input, Dense, Flatten\n",
    "\n",
    "class DQN_FC(DQN):\n",
    "    def __init__(self, *args, lr=0.1,**kwargs):\n",
    "        super(DQN_FC, self).__init__( *args,**kwargs)\n",
    "        \n",
    "        # NN Model\n",
    "        model = Sequential()\n",
    "                \n",
    "        a = Input(shape=(5, 5, self.n_state, ))\n",
    "        b = Flatten()(a)\n",
    "        c = Dense(4)(b)\n",
    "        model = Model(inputs=a, outputs=c)\n",
    "        \n",
    "        model.compile(sgd(lr=lr, decay=1e-4, momentum=0.0), \"mse\")\n",
    "        self.model = model"
   ]
  },
  {
   "cell_type": "code",
   "execution_count": 17,
   "metadata": {},
   "outputs": [
    {
     "name": "stdout",
     "output_type": "stream",
     "text": [
      "Epoch 000/050 | Loss 0.0096 | Win/lose count 3.5/5.0 (-1.5)\n",
      "Epoch 001/050 | Loss 0.0162 | Win/lose count 5.0/6.0 (-1.0)\n",
      "Epoch 002/050 | Loss 0.0171 | Win/lose count 4.0/6.0 (-2.0)\n",
      "Epoch 003/050 | Loss 0.0160 | Win/lose count 8.0/5.0 (3.0)\n",
      "Epoch 004/050 | Loss 0.0175 | Win/lose count 5.0/9.0 (-4.0)\n",
      "Epoch 005/050 | Loss 0.0223 | Win/lose count 10.0/2.0 (8.0)\n",
      "Epoch 006/050 | Loss 0.0087 | Win/lose count 5.5/4.0 (1.5)\n",
      "Epoch 007/050 | Loss 0.0062 | Win/lose count 6.0/3.0 (3.0)\n",
      "Epoch 008/050 | Loss 0.0095 | Win/lose count 9.0/4.0 (5.0)\n",
      "Epoch 009/050 | Loss 0.0152 | Win/lose count 5.5/1.0 (4.5)\n",
      "Epoch 010/050 | Loss 0.0045 | Win/lose count 3.5/2.0 (1.5)\n",
      "Epoch 011/050 | Loss 0.0025 | Win/lose count 8.0/4.0 (4.0)\n",
      "Epoch 012/050 | Loss 0.0075 | Win/lose count 9.0/7.0 (2.0)\n",
      "Epoch 013/050 | Loss 0.0076 | Win/lose count 2.0/3.0 (-1.0)\n",
      "Epoch 014/050 | Loss 0.0053 | Win/lose count 4.5/5.0 (-0.5)\n",
      "Epoch 015/050 | Loss 0.0094 | Win/lose count 9.0/1.0 (8.0)\n",
      "Epoch 016/050 | Loss 0.0022 | Win/lose count 4.5/1.0 (3.5)\n",
      "Epoch 017/050 | Loss 0.0038 | Win/lose count 3.5/3.0 (0.5)\n",
      "Epoch 018/050 | Loss 0.0043 | Win/lose count 12.0/3.0 (9.0)\n",
      "Epoch 019/050 | Loss 0.0080 | Win/lose count 11.0/2.0 (9.0)\n",
      "Epoch 020/050 | Loss 0.0069 | Win/lose count 8.0/1.0 (7.0)\n",
      "Epoch 021/050 | Loss 0.0022 | Win/lose count 10.0/6.0 (4.0)\n",
      "Epoch 022/050 | Loss 0.0062 | Win/lose count 7.5/0 (7.5)\n",
      "Epoch 023/050 | Loss 0.0075 | Win/lose count 12.0/3.0 (9.0)\n",
      "Epoch 024/050 | Loss 0.0043 | Win/lose count 8.5/3.0 (5.5)\n",
      "Epoch 025/050 | Loss 0.0019 | Win/lose count 12.0/3.0 (9.0)\n",
      "Epoch 026/050 | Loss 0.0033 | Win/lose count 14.0/3.0 (11.0)\n",
      "Epoch 027/050 | Loss 0.0052 | Win/lose count 10.5/7.0 (3.5)\n",
      "Epoch 028/050 | Loss 0.0177 | Win/lose count 13.5/3.0 (10.5)\n",
      "Epoch 029/050 | Loss 0.0034 | Win/lose count 7.5/4.0 (3.5)\n",
      "Epoch 030/050 | Loss 0.0035 | Win/lose count 15.0/2.0 (13.0)\n",
      "Epoch 031/050 | Loss 0.0084 | Win/lose count 9.0/1.0 (8.0)\n",
      "Epoch 032/050 | Loss 0.0028 | Win/lose count 17.0/3.0 (14.0)\n",
      "Epoch 033/050 | Loss 0.0034 | Win/lose count 5.5/0 (5.5)\n",
      "Epoch 034/050 | Loss 0.0034 | Win/lose count 13.5/0 (13.5)\n",
      "Epoch 035/050 | Loss 0.0074 | Win/lose count 11.5/2.0 (9.5)\n",
      "Epoch 036/050 | Loss 0.0044 | Win/lose count 8.5/2.0 (6.5)\n",
      "Epoch 037/050 | Loss 0.0038 | Win/lose count 12.0/1.0 (11.0)\n",
      "Epoch 038/050 | Loss 0.0040 | Win/lose count 7.0/0 (7.0)\n",
      "Epoch 039/050 | Loss 0.0118 | Win/lose count 8.0/0 (8.0)\n",
      "Epoch 040/050 | Loss 0.0056 | Win/lose count 16.0/2.0 (14.0)\n",
      "Epoch 041/050 | Loss 0.0034 | Win/lose count 9.0/1.0 (8.0)\n",
      "Epoch 042/050 | Loss 0.0053 | Win/lose count 9.5/1.0 (8.5)\n",
      "Epoch 043/050 | Loss 0.0041 | Win/lose count 5.5/0 (5.5)\n",
      "Epoch 044/050 | Loss 0.0025 | Win/lose count 8.0/3.0 (5.0)\n",
      "Epoch 045/050 | Loss 0.0022 | Win/lose count 2.5/4.0 (-1.5)\n",
      "Epoch 046/050 | Loss 0.0095 | Win/lose count 3.5/0 (3.5)\n",
      "Epoch 047/050 | Loss 0.0083 | Win/lose count 9.0/1.0 (8.0)\n",
      "Epoch 048/050 | Loss 0.0047 | Win/lose count 5.5/2.0 (3.5)\n",
      "Epoch 049/050 | Loss 0.0021 | Win/lose count 12.0/0 (12.0)\n"
     ]
    },
    {
     "data": {
      "text/html": [
       "<video alt=\"test\" controls>\n",
       "                <source src=\"data:video/mp4;base64,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\" type=\"video/mp4\" />\n",
       "             </video>"
      ],
      "text/plain": [
       "<IPython.core.display.HTML object>"
      ]
     },
     "execution_count": 17,
     "metadata": {},
     "output_type": "execute_result"
    }
   ],
   "source": [
    "env = Environment(grid_size=size, max_time=T, temperature=0.3)\n",
    "agent = DQN_FC(size, lr=.1, epsilon=0.1, memory_size=2000, batch_size=32)\n",
    "epochs_train = 50\n",
    "train(agent, env, epochs_train, prefix='fc_train')\n",
    "HTML(display_videos('fc_train10.mp4'))"
   ]
  },
  {
   "cell_type": "markdown",
   "metadata": {},
   "source": [
    "As we can see in this video, since he is shortsighted at some point he doesn't see any cheese and he gets blocked in a left->right->left cycle. We will see in the next part how we can change this by adding a reward for exploration of new cells."
   ]
  },
  {
   "cell_type": "markdown",
   "metadata": {},
   "source": [
    "***\n",
    "***\n",
    "__Question 8__ Implement the DQN training algorithm using a CNN (for example, 2 convolutional layers and one final fully connected layer)."
   ]
  },
  {
   "cell_type": "code",
   "execution_count": 19,
   "metadata": {},
   "outputs": [],
   "source": [
    "from keras.models import Sequential\n",
    "from keras.layers import Conv2D, MaxPooling2D\n",
    "from keras.layers import Activation, Dropout, Flatten, Dense\n",
    "\n",
    "\n",
    "class DQN_CNN(DQN):\n",
    "    def __init__(self, *args,lr=0.1,**kwargs):\n",
    "        super(DQN_CNN, self).__init__(*args,**kwargs)\n",
    "        \n",
    "        model = Sequential()\n",
    "        \n",
    "        model.add(Conv2D(8, (2, 2), strides=1, input_shape=(5, 5, self.n_state),  padding=\"valid\"))\n",
    "        model.add(Activation('relu'))\n",
    "        \n",
    "        model.add(Conv2D(8, (2, 2), strides=1, input_shape=(5, 5, self.n_state),  padding=\"valid\"))\n",
    "        model.add(Activation('relu'))\n",
    "        \n",
    "        model.add(Flatten())\n",
    "        model.add(Dense(4))\n",
    "        \n",
    "        model.compile(sgd(lr=lr, decay=1e-4, momentum=0.0), \"mse\")\n",
    "        self.model = model"
   ]
  },
  {
   "cell_type": "markdown",
   "metadata": {},
   "source": [
    "We propose a 2 layers convolutionnal network with (2*2) filters, and a last fully connected layer. We could exploit the symmetries if we made a model predicting the Q-value of going up, then to predict the Q-value of going left, we can just rotate the grid, this way we have less parameters to learn and it garanties that the model is symmetric is every direction."
   ]
  },
  {
   "cell_type": "code",
   "execution_count": 20,
   "metadata": {},
   "outputs": [
    {
     "name": "stdout",
     "output_type": "stream",
     "text": [
      "_________________________________________________________________\n",
      "Layer (type)                 Output Shape              Param #   \n",
      "=================================================================\n",
      "conv2d_3 (Conv2D)            (None, 4, 4, 8)           72        \n",
      "_________________________________________________________________\n",
      "activation_3 (Activation)    (None, 4, 4, 8)           0         \n",
      "_________________________________________________________________\n",
      "conv2d_4 (Conv2D)            (None, 3, 3, 8)           264       \n",
      "_________________________________________________________________\n",
      "activation_4 (Activation)    (None, 3, 3, 8)           0         \n",
      "_________________________________________________________________\n",
      "flatten_5 (Flatten)          (None, 72)                0         \n",
      "_________________________________________________________________\n",
      "dense_5 (Dense)              (None, 4)                 292       \n",
      "=================================================================\n",
      "Total params: 628\n",
      "Trainable params: 628\n",
      "Non-trainable params: 0\n",
      "_________________________________________________________________\n",
      "None\n",
      "Epoch 000/050 | Loss 0.0011 | Win/lose count 2.5/4.0 (-1.5)\n",
      "Epoch 001/050 | Loss 0.0037 | Win/lose count 3.5/3.0 (0.5)\n",
      "Epoch 002/050 | Loss 0.0066 | Win/lose count 5.5/4.0 (1.5)\n",
      "Epoch 003/050 | Loss 0.0047 | Win/lose count 2.0/4.0 (-2.0)\n",
      "Epoch 004/050 | Loss 0.0055 | Win/lose count 3.5/7.0 (-3.5)\n",
      "Epoch 005/050 | Loss 0.0044 | Win/lose count 6.0/3.0 (3.0)\n",
      "Epoch 006/050 | Loss 0.0013 | Win/lose count 7.5/2.0 (5.5)\n",
      "Epoch 007/050 | Loss 0.0020 | Win/lose count 6.5/6.0 (0.5)\n",
      "Epoch 008/050 | Loss 0.0048 | Win/lose count 9.0/6.0 (3.0)\n",
      "Epoch 009/050 | Loss 0.0047 | Win/lose count 7.0/4.0 (3.0)\n",
      "Epoch 010/050 | Loss 0.0076 | Win/lose count 9.0/11.0 (-2.0)\n",
      "Epoch 011/050 | Loss 0.0032 | Win/lose count 7.0/5.0 (2.0)\n",
      "Epoch 012/050 | Loss 0.0050 | Win/lose count 5.5/0 (5.5)\n",
      "Epoch 013/050 | Loss 0.0038 | Win/lose count 8.0/6.0 (2.0)\n",
      "Epoch 014/050 | Loss 0.0101 | Win/lose count 9.5/5.0 (4.5)\n",
      "Epoch 015/050 | Loss 0.0114 | Win/lose count 10.5/4.0 (6.5)\n",
      "Epoch 016/050 | Loss 0.0051 | Win/lose count 2.0/3.0 (-1.0)\n",
      "Epoch 017/050 | Loss 0.0094 | Win/lose count 9.0/3.0 (6.0)\n",
      "Epoch 018/050 | Loss 0.0078 | Win/lose count 10.0/3.0 (7.0)\n",
      "Epoch 019/050 | Loss 0.0062 | Win/lose count 10.5/2.0 (8.5)\n",
      "Epoch 020/050 | Loss 0.0090 | Win/lose count 9.0/2.0 (7.0)\n",
      "Epoch 021/050 | Loss 0.0137 | Win/lose count 2.5/1.0 (1.5)\n",
      "Epoch 022/050 | Loss 0.0025 | Win/lose count 8.5/3.0 (5.5)\n",
      "Epoch 023/050 | Loss 0.0056 | Win/lose count 2.0/4.0 (-2.0)\n",
      "Epoch 024/050 | Loss 0.0053 | Win/lose count 4.5/3.0 (1.5)\n",
      "Epoch 025/050 | Loss 0.0055 | Win/lose count 14.0/4.0 (10.0)\n",
      "Epoch 026/050 | Loss 0.0022 | Win/lose count 6.0/2.0 (4.0)\n",
      "Epoch 027/050 | Loss 0.0030 | Win/lose count 8.5/2.0 (6.5)\n",
      "Epoch 028/050 | Loss 0.0083 | Win/lose count 2.5/1.0 (1.5)\n",
      "Epoch 029/050 | Loss 0.0083 | Win/lose count 8.0/1.0 (7.0)\n",
      "Epoch 030/050 | Loss 0.0036 | Win/lose count 14.0/2.0 (12.0)\n",
      "Epoch 031/050 | Loss 0.0121 | Win/lose count 9.0/1.0 (8.0)\n",
      "Epoch 032/050 | Loss 0.0041 | Win/lose count 10.5/3.0 (7.5)\n",
      "Epoch 033/050 | Loss 0.0054 | Win/lose count 13.0/4.0 (9.0)\n",
      "Epoch 034/050 | Loss 0.0071 | Win/lose count 11.5/6.0 (5.5)\n",
      "Epoch 035/050 | Loss 0.0098 | Win/lose count 5.5/3.0 (2.5)\n",
      "Epoch 036/050 | Loss 0.0057 | Win/lose count 15.0/0 (15.0)\n",
      "Epoch 037/050 | Loss 0.0045 | Win/lose count 5.0/2.0 (3.0)\n",
      "Epoch 038/050 | Loss 0.0083 | Win/lose count 8.5/4.0 (4.5)\n",
      "Epoch 039/050 | Loss 0.0051 | Win/lose count 14.5/3.0 (11.5)\n",
      "Epoch 040/050 | Loss 0.0060 | Win/lose count 14.5/4.0 (10.5)\n",
      "Epoch 041/050 | Loss 0.0060 | Win/lose count 1.5/0 (1.5)\n",
      "Epoch 042/050 | Loss 0.0046 | Win/lose count 16.5/3.0 (13.5)\n",
      "Epoch 043/050 | Loss 0.0066 | Win/lose count 9.5/2.0 (7.5)\n",
      "Epoch 044/050 | Loss 0.0050 | Win/lose count 9.5/2.0 (7.5)\n",
      "Epoch 045/050 | Loss 0.0058 | Win/lose count 6.0/1.0 (5.0)\n",
      "Epoch 046/050 | Loss 0.0057 | Win/lose count 10.5/0 (10.5)\n",
      "Epoch 047/050 | Loss 0.0057 | Win/lose count 14.5/1.0 (13.5)\n",
      "Epoch 048/050 | Loss 0.0029 | Win/lose count 15.0/3.0 (12.0)\n",
      "Epoch 049/050 | Loss 0.0058 | Win/lose count 11.0/3.0 (8.0)\n"
     ]
    },
    {
     "data": {
      "text/html": [
       "<video alt=\"test\" controls>\n",
       "                <source src=\"data:video/mp4;base64,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\" type=\"video/mp4\" />\n",
       "             </video>"
      ],
      "text/plain": [
       "<IPython.core.display.HTML object>"
      ]
     },
     "execution_count": 20,
     "metadata": {},
     "output_type": "execute_result"
    }
   ],
   "source": [
    "env = Environment(grid_size=size, max_time=T, temperature=0.3)\n",
    "agent = DQN_CNN(size, lr=.1, epsilon = 0.1, memory_size=100000, batch_size = 32)\n",
    "print(agent.model.summary())\n",
    "train(agent,env,epochs_train,prefix='cnn_train')\n",
    "HTML(display_videos('cnn_train10.mp4'))"
   ]
  },
  {
   "cell_type": "markdown",
   "metadata": {},
   "source": [
    "***\n",
    "***\n",
    "__Question 9__ Test both algorithms and compare their performances. Which issue(s) do you observe? Observe also different behaviors by changing the temperature."
   ]
  },
  {
   "cell_type": "code",
   "execution_count": 21,
   "metadata": {
    "scrolled": true
   },
   "outputs": [
    {
     "name": "stdout",
     "output_type": "stream",
     "text": [
      "Test of the CNN\n",
      "Win/lose count 11.5/1.0. Average score (10.5)\n",
      "Win/lose count 19.0/2.0. Average score (13.75)\n",
      "Win/lose count 5.0/0. Average score (10.833333333333334)\n",
      "Win/lose count 11.5/2.0. Average score (10.5)\n",
      "Win/lose count 15.5/2.0. Average score (11.1)\n",
      "Win/lose count 5.5/1.0. Average score (10.0)\n",
      "Win/lose count 10.0/2.0. Average score (9.714285714285714)\n",
      "Win/lose count 13.5/1.0. Average score (10.0625)\n",
      "Win/lose count 6.5/1.0. Average score (9.555555555555555)\n",
      "Win/lose count 2.0/4.0. Average score (8.4)\n",
      "Win/lose count 3.5/2.0. Average score (7.7727272727272725)\n",
      "Win/lose count 10.5/2.0. Average score (7.833333333333333)\n",
      "Win/lose count 8.5/4.0. Average score (7.576923076923077)\n",
      "Win/lose count 14.5/3.0. Average score (7.857142857142857)\n",
      "Win/lose count 17.0/3.0. Average score (8.266666666666667)\n",
      "Win/lose count 11.5/3.0. Average score (8.28125)\n",
      "Win/lose count 15.0/0. Average score (8.676470588235293)\n",
      "Win/lose count 18.0/5.0. Average score (8.916666666666666)\n",
      "Win/lose count 5.5/0. Average score (8.736842105263158)\n",
      "Win/lose count 11.0/3.0. Average score (8.7)\n",
      "Win/lose count 4.5/2.0. Average score (8.404761904761905)\n",
      "Win/lose count 12.5/3.0. Average score (8.454545454545455)\n",
      "Win/lose count 18.5/3.0. Average score (8.76086956521739)\n",
      "Win/lose count 11.0/5.0. Average score (8.645833333333334)\n",
      "Win/lose count 8.5/1.0. Average score (8.6)\n",
      "Win/lose count 15.0/3.0. Average score (8.73076923076923)\n",
      "Win/lose count 11.5/0. Average score (8.833333333333334)\n",
      "Win/lose count 7.5/1.0. Average score (8.75)\n",
      "Win/lose count 19.0/5.0. Average score (8.931034482758621)\n",
      "Win/lose count 20.0/3.0. Average score (9.2)\n",
      "Final score: 9.2\n",
      "Test of the FC\n",
      "Win/lose count 11.0/2.0. Average score (9.0)\n",
      "Win/lose count 16.0/3.0. Average score (11.0)\n",
      "Win/lose count 5.0/0. Average score (9.0)\n",
      "Win/lose count 10.5/2.0. Average score (8.875)\n",
      "Win/lose count 9.0/0. Average score (8.9)\n",
      "Win/lose count 5.5/4.0. Average score (7.666666666666667)\n",
      "Win/lose count 12.0/3.0. Average score (7.857142857142857)\n",
      "Win/lose count 19.0/2.0. Average score (9.0)\n",
      "Win/lose count 9.0/1.0. Average score (8.88888888888889)\n",
      "Win/lose count 14.5/2.0. Average score (9.25)\n",
      "Win/lose count 3.0/2.0. Average score (8.5)\n",
      "Win/lose count 11.0/2.0. Average score (8.541666666666666)\n",
      "Win/lose count 3.0/3.0. Average score (7.884615384615385)\n",
      "Win/lose count 17.0/1.0. Average score (8.464285714285714)\n",
      "Win/lose count 4.0/2.0. Average score (8.033333333333333)\n",
      "Win/lose count 11.5/3.0. Average score (8.0625)\n",
      "Win/lose count 18.5/1.0. Average score (8.617647058823529)\n",
      "Win/lose count 12.0/4.0. Average score (8.583333333333334)\n",
      "Win/lose count 12.0/3.0. Average score (8.605263157894736)\n",
      "Win/lose count 3.5/2.0. Average score (8.25)\n",
      "Win/lose count 9.0/3.0. Average score (8.142857142857142)\n",
      "Win/lose count 9.5/3.0. Average score (8.068181818181818)\n",
      "Win/lose count 6.0/1.0. Average score (7.934782608695652)\n",
      "Win/lose count 4.5/1.0. Average score (7.75)\n",
      "Win/lose count 20.5/1.0. Average score (8.22)\n",
      "Win/lose count 6.5/1.0. Average score (8.115384615384615)\n",
      "Win/lose count 7.5/0. Average score (8.092592592592593)\n",
      "Win/lose count 16.5/3.0. Average score (8.285714285714286)\n",
      "Win/lose count 10.5/1.0. Average score (8.327586206896552)\n",
      "Win/lose count 5.0/1.0. Average score (8.183333333333334)\n",
      "Final score: 8.183333333333334\n"
     ]
    }
   ],
   "source": [
    "agent_cnn = DQN_CNN(size, lr=.1, epsilon = 0.1, memory_size=2000, batch_size = 32)\n",
    "agent_cnn.load(name_weights='cnn_trainmodel.h5',name_model='cnn_trainmodel.json')\n",
    "\n",
    "agent_fc = DQN_FC(size, lr=.1, epsilon = 0.1, memory_size=2000, batch_size = 32)\n",
    "agent_fc.load(name_weights='fc_trainmodel.h5',name_model='fc_trainmodel.json')\n",
    "print('Test of the CNN')\n",
    "np.random.seed(0)\n",
    "env = Environment(grid_size=size, max_time=T,temperature=0.3)\n",
    "test(agent_cnn,env,epochs_test,prefix='cnn_test')\n",
    "print('Test of the FC')\n",
    "np.random.seed(0)\n",
    "env = Environment(grid_size=size, max_time=T,temperature=0.3)\n",
    "test(agent_fc,env,epochs_test,prefix='fc_test')"
   ]
  },
  {
   "cell_type": "code",
   "execution_count": 22,
   "metadata": {},
   "outputs": [
    {
     "data": {
      "text/html": [
       "<video alt=\"test\" controls>\n",
       "                <source src=\"data:video/mp4;base64,AAAAIGZ0eXBpc29tAAACAGlzb21pc28yYXZjMW1wNDEAAAAIZnJlZQAAFlJtZGF0AAACrgYF//+q3EXpvebZSLeWLNgg2SPu73gyNjQgLSBjb3JlIDE0NiByMjUzOCAxMjEzOTZjIC0gSC4yNjQvTVBFRy00IEFWQyBjb2RlYyAtIENvcHlsZWZ0IDIwMDMtMjAxNSAtIGh0dHA6Ly93d3cudmlkZW9sYW4ub3JnL3gyNjQuaHRtbCAtIG9wdGlvbnM6IGNhYmFjPTEgcmVmPTMgZGVibG9jaz0xOjA6MCBhbmFseXNlPTB4MzoweDExMyBtZT1oZXggc3VibWU9NyBwc3k9MSBwc3lfcmQ9MS4wMDowLjAwIG1peGVkX3JlZj0xIG1lX3JhbmdlPTE2IGNocm9tYV9tZT0xIHRyZWxsaXM9MSA4eDhkY3Q9MSBjcW09MCBkZWFkem9uZT0yMSwxMSBmYXN0X3Bza2lwPTEgY2hyb21hX3FwX29mZnNldD00IHRocmVhZHM9MTIgbG9va2FoZWFkX3RocmVhZHM9MiBzbGljZWRfdGhyZWFkcz0wIG5yPTAgZGVjaW1hdGU9MSBpbnRlcmxhY2VkPTAgYmx1cmF5X2NvbXBhdD0wIGNvbnN0cmFpbmVkX2ludHJhPTAgYmZyYW1lcz0zIGJfcHlyYW1pZD0yIGJfYWRhcHQ9MSBiX2JpYXM9MCBkaXJlY3Q9MSB3ZWlnaHRiPTEgb3Blbl9nb3A9MCB3ZWlnaHRwPTIga2V5aW50PTI1MCBrZXlpbnRfbWluPTI1IHNjZW5lY3V0PTQwIGludHJhX3JlZnJlc2g9MCByY19sb29rYWhlYWQ9NDAgcmM9Y3JmIG1idHJlZT0xIGNyZj0yMy4wIHFjb21wPTAuNjAgcXBtaW49MCBxcG1heD02OSBxcHN0ZXA9NCBpcF9yYXRpbz0xLjQwIGFxPTE6MS4wMACAAAADCmWIhAAz//72hvgU2FMjr//8v9JhupQr+LAABhSAFi7mBlLJIOfApJe/8CmR2E6xxk5bN/lKnBpDVnDWJ5al2ZUxbPMXJAb/4QSyhypmFN5xIf8yf6qJgpFRq20f40/NmBiKGDjxadfE8HaptdbHEfg5R7zQ+/ARYPhXFFbpolqHxsI6dr0kxCzAWtJBBuQnodHAaqPG5TRg9uOvmfefGVRv097zS2wrrw/Z9TIaLgEenvRYWZ7RgaKoB1mR7zPBvHjaLwan6RaIfMdmsvbbKscN+C1TYOAKslfAFDnkbnCkgfzgc2LfNBV2yvZqiKY8dYCEg8ICjbtNSDUtOUc44xOCXTULwF6W52WaR+vS+UopS8R9xQ3TzhCOW1I5yDUZWYM84HV6Gr9G8CeTwuT6vg/9B06/CbAl+HAjel4wwTFZ02ZNSDX/hpNVh8CuhvDxoeeX0mmxRTygsFMyPNlCnf2VRRJ+OVPhQm1ICtZ3KExO7i4482MYBPP/U3pJOAAtbhTbIVY3ZZhNMUfUECKsThoEKlOzAWueskvEthFJD8gR5ceIZYAhk9AFLm2AdtlepQA2v4Dgc2Z6N9IxiSwQWnWhl5CAiiwPdGjrHqFpT35HNGllGPuD5x0uPSpg2FHp7MwRRHvwzxuTzzqzCuaf3A2V81sCIEwhfIohYo9AWbve9NAv+GlYervPFXh2c8gp4GRnqeDEGQcwOumpGlXbr+emkopw70K3ro/Y0gxMJKI4h4+Aq9Cnaq8aBy3MDhIiKIKMw5yETSYa6cGu6VvE+3aw73sumBsQQ41jvuq1va9Z1W/UaqeYtdteJbq1jIRiI1L8AfGEkAVPGBojKe1jRGLDQ3Mmp1DaSKdMa4TvLZnOBPinr6Ism/yqgoPunGSp/3vNmDVhU77Sp/1nQuoCGl8csGSK0Qw5BJ9HgiaXK6GrPQ3AdnVVkHFjL6ELDEZ4/dsXYoTyLlT2D/3IDdhY20O05jwVtGGulOdQtIZQ0scITr+GZlvt2mZaoXcBjr62ls8AAAMAUaGwaMEAAAAWQZohbEN//qeEALmY1m22gMBzfumtgAAAABhBmkI8IZMphDf//qeEARxAFm2IA0hpb0EAAAAZQZpjSeEPJlMCHf/+qZYBBYsN0VuFHySsoAAAAEdBmodJ4Q8mUwId//6plgQXkl90s9A//4hI8VNXeaHYJVfriI8P///EC5Zq6ZbBBb8K4v//4hAyp1dyRuCSV1CAzZEesSUb0QAAABVBnqVFETwv/wHC65Yza/1nRxIduUEAAAAPAZ7EdEK/Al8VarwD58cfAAAAEAGexmpCvwJ2Hg1x34srt6EAAAAiQZrLSahBaJlMCHf//qmWATbuYa/bPV9R9jE5QRqRazYKSAAAABFBnulFESwv/wEenrVD1IPKCAAAABABnwh0Qr8BiXk3lbKHo3LBAAAADwGfCmpCvwD4WBLlf37nwAAAABNBmw9JqEFsmUwId//+qZYAAJWAAAAADEGfLUUVLC//AACygQAAABABn0x0Qr8A9ahvZdV/AdfBAAAAEAGfTmpCvwD1qG9itH26fkEAAAATQZtTSahBbJlMCHf//qmWAACVgAAAAAxBn3FFFSwv/wAAsoAAAAAQAZ+QdEK/APWob2XVfwHXwQAAABABn5JqQr8A9ahvYrR9un5AAAAAE0Gbl0moQWyZTAh3//6plgAAlYAAAAAMQZ+1RRUsL/8AALKBAAAAEAGf1HRCvwD1qG9l1X8B18AAAAAQAZ/WakK/APWob2K0fbp+QQAAABNBm9tJqEFsmUwId//+qZYAAJWBAAAADEGf+UUVLC//AACygAAAABABnhh0Qr8A9ahvZdV/AdfBAAAAEAGeGmpCvwD1qG9itH26fkAAAAATQZofSahBbJlMCHf//qmWAACVgQAAAAxBnj1FFSwv/wAAsoEAAAAQAZ5cdEK/APWob2XVfwHXwAAAABABnl5qQr8A9ahvYrR9un5AAAAAEkGaQ0moQWyZTAhv//6nhAABJwAAAAxBnmFFFSwv/wAAsoAAAAAQAZ6AdEK/APWob2XVfwHXwQAAABABnoJqQr8A9ahvYrR9un5AAAAAEkGah0moQWyZTAhv//6nhAABJwAAABRBnqVFFSwv/wEWj59Fiuwi197FtQAAABABnsR0Qr8Bf5NCJ8WYo1DxAAAAEAGexmpCvwGJZua48VbRuWEAAAAcQZrISahBbJlMCG///qeEAmHRP9SKAwCa/sE3oAAAABhBmulJ4QpSZTAh3/6plgXhMN0Oym/KYMAAAABQQZsNSeEOiZTAh3/+qZYHAwT1B8DvktuXTB4cbRT0EMXH/r1dHawMH/xhDKrjyzqV8Igt3ypvNCE1OdM9Ak1kM5KwepcgaejdA+94+yIc1IEAAAAUQZ8rRRE8L/8CARrUsUb/0CJrZuAAAAAQAZ9KdEK/Aq9x3la8QUr0gAAAABABn0xqQr8BkyO3OtDC8NlBAAAAE0GbUUmoQWiZTAh3//6plgAAlYEAAAAMQZ9vRREsL/8AALKBAAAADwGfjnRCvwD14O7ketNS7gAAAA8Bn5BqQr8A9eDucpHcs/wAAAATQZuVSahBbJlMCHf//qmWAACVgQAAAAxBn7NFFSwv/wAAsoAAAAAPAZ/SdEK/APXg7uR601LuAAAAEAGf1GpCvwGJSti9XYcjb8EAAAATQZvZSahBbJlMCHf//qmWAACVgAAAAAxBn/dFFSwv/wAAsoEAAAAPAZ4WdEK/APXg7uR601LvAAAADwGeGGpCvwD14O5ykdyz/AAAABNBmh1JqEFsmUwId//+qZYAAJWBAAAADEGeO0UVLC//AACygAAAAA8Bnlp0Qr8A9eDu5HrTUu8AAAAPAZ5cakK/APXg7nKR3LP9AAAAE0GaQUmoQWyZTAh3//6plgAAlYAAAAAMQZ5/RRUsL/8AALKAAAAADwGennRCvwD14O7ketNS7wAAAA8BnoBqQr8A9eDucpHcs/wAAAATQZqFSahBbJlMCHf//qmWAACVgQAAAAxBnqNFFSwv/wAAsoAAAAAPAZ7CdEK/APXg7uR601LvAAAADwGexGpCvwD14O5ykdyz/QAAABNBmslJqEFsmUwId//+qZYAAJWBAAAADEGe50UVLC//AACygQAAAA8BnwZ0Qr8A9eDu5HrTUu4AAAAPAZ8IakK/APXg7nKR3LP8AAAAE0GbDUmoQWyZTAh3//6plgAAlYEAAAAMQZ8rRRUsL/8AALKAAAAADwGfSnRCvwD14O7ketNS7gAAAA8Bn0xqQr8A9eDucpHcs/0AAAAeQZtRSahBbJlMCHf//qmWAJz1bI7t2LmWWfPtexllAAAAEEGfb0UVLC//ALpQbPPFYeEAAAAPAZ+OdEK/APgXoDJLlLuAAAAADwGfkGpCvwD4ApTNsyNZZQAAABNBm5VJqEFsmUwId//+qZYAAJWBAAAAE0Gfs0UVLC//ARaPnTOK6nsTHXwAAAAQAZ/SdEK/AX+RZV4EV2zZgAAAAA8Bn9RqQr8BfyWlSKBKoi8AAAATQZvZSahBbJlMCHf//qmWAACVgAAAABBBn/dFFSwv/wEW9BBU2QY/AAAAEAGeFnRCvwF/kWVeBFds2YEAAAAPAZ4YakK/AX8lpUigSqIuAAAAE0GaHUmoQWyZTAh3//6plgAAlYEAAAAQQZ47RRUsL/8BFvQQVNkGPgAAABABnlp0Qr8Bf5FlXgRXbNmBAAAADwGeXGpCvwF/JaVIoEqiLwAAABNBmkFJqEFsmUwId//+qZYAAJWAAAAAEEGef0UVLC//ARb0EFTZBj4AAAAQAZ6edEK/AX+RZV4EV2zZgQAAAA8BnoBqQr8BfyWlSKBKoi4AAAATQZqFSahBbJlMCHf//qmWAACVgQAAABBBnqNFFSwv/wEW9BBU2QY+AAAAEAGewnRCvwF/kWVeBFds2YEAAAAPAZ7EakK/AX8lpUigSqIvAAAAE0GayUmoQWyZTAh3//6plgAAlYEAAAAQQZ7nRRUsL/8BFvQQVNkGPwAAABABnwZ0Qr8Bf5FlXgRXbNmAAAAADwGfCGpCvwF/JaVIoEqiLgAAAB1Bmw1JqEFsmUwId//+qZYAnG8IC0WeFvaNdUPsqQAAABJBnytFFSwv/wEW9BFaDJEBN+QAAAAQAZ9KdEK/AX+RZV4EV2zZgAAAABABn0xqQr8BfyZJpvpIOJUxAAAAE0GbUUmoQWyZTAh3//6plgAAlYEAAAAMQZ9vRRUsL/8AALKBAAAADwGfjnRCvwD14O7ketNS7gAAAA8Bn5BqQr8A9eDucpHcs/wAAAATQZuVSahBbJlMCHf//qmWAACVgQAAAAxBn7NFFSwv/wAAsoAAAAAPAZ/SdEK/APXg7uR601LuAAAADwGf1GpCvwD14O5ykdyz/QAAABNBm9lJqEFsmUwId//+qZYAAJWAAAAADEGf90UVLC//AACygQAAAA8BnhZ0Qr8A9eDu5HrTUu8AAAAPAZ4YakK/APXg7nKR3LP8AAAAE0GaHUmoQWyZTAh3//6plgAAlYEAAAAMQZ47RRUsL/8AALKAAAAADwGeWnRCvwD14O7ketNS7wAAAA8BnlxqQr8A9eDucpHcs/0AAAATQZpBSahBbJlMCHf//qmWAACVgAAAAAxBnn9FFSwv/wAAsoAAAAAPAZ6edEK/APXg7uR601LvAAAADwGegGpCvwD14O5ykdyz/AAAABNBmoVJqEFsmUwId//+qZYAAJWBAAAADEGeo0UVLC//AACygAAAAA8BnsJ0Qr8A9eDu5HrTUu8AAAAPAZ7EakK/APXg7nKR3LP9AAAAE0GayUmoQWyZTAh3//6plgAAlYEAAAAMQZ7nRRUsL/8AALKBAAAADwGfBnRCvwD14O7ketNS7gAAAA8BnwhqQr8A9eDucpHcs/wAAAATQZsNSahBbJlMCHf//qmWAACVgQAAAAxBnytFFSwv/wAAsoAAAAAPAZ9KdEK/APXg7uR601LuAAAADwGfTGpCvwD14O5ykdyz/QAAABNBm1FJqEFsmUwId//+qZYAAJWBAAAADEGfb0UVLC//AACygQAAAA8Bn450Qr8A9eDu5HrTUu4AAAAPAZ+QakK/APXg7nKR3LP8AAAAE0GblUmoQWyZTAh3//6plgAAlYEAAAAMQZ+zRRUsL/8AALKAAAAADwGf0nRCvwD14O7ketNS7gAAAA8Bn9RqQr8A9eDucpHcs/0AAAATQZvZSahBbJlMCHf//qmWAACVgAAAAAxBn/dFFSwv/wAAsoEAAAAPAZ4WdEK/APXg7uR601LvAAAADwGeGGpCvwD/CUGvu7aTcAAAABNBmh1JqEFsmUwId//+qZYAAJWBAAAADEGeO0UVLC//AACygAAAABABnlp0Qr8BibKu6vx3fsHBAAAADwGeXGpCvwD14O5ykdyz/QAAABNBmkFJqEFsmUwId//+qZYAAJWAAAAADEGef0UVLC//AACygAAAAA8Bnp50Qr8A9eDu5HrTUu8AAAAPAZ6AakK/APXg7nKR3LP8AAAAE0GahUmoQWyZTAh3//6plgAAlYEAAAAMQZ6jRRUsL/8AALKAAAAADwGewnRCvwD14O7ketNS7wAAAA8BnsRqQr8A9eDucpHcs/0AAAATQZrJSahBbJlMCHf//qmWAACVgQAAAAxBnudFFSwv/wAAsoEAAAAPAZ8GdEK/APXg7uR601LuAAAADwGfCGpCvwD14O5ykdyz/AAAABJBmw1JqEFsmUwIb//+p4QAAScAAAAMQZ8rRRUsL/8AALKAAAAADwGfSnRCvwD14O7ketNS7gAAAA8Bn0xqQr8A9eDucpHcs/0AAAAZQZtOSahBbJlMCHf//qmWAJz1bCZZnz5E/wAAABJBm3JJ4QpSZTAh3/6plgAAlYEAAAATQZ+QRTRML/8BDo+fRYruLR8+kgAAABABn690Qr8Bdc0SJ8WYo1FwAAAAEAGfsWpCvwF/Zua48VbRuqEAAAATQZu2SahBaJlMCHf//qmWAACVgAAAABBBn9RFESwv/wEO9BFjgJ9JAAAAEAGf83RCvwF1zRInxZijUXEAAAAQAZ/1akK/AX9m5rjxVtG6oAAAABNBm/pJqEFsmUwId//+qZYAAJWBAAAAEEGeGEUVLC//AQ70EWOAn0kAAAAQAZ43dEK/AXXNEifFmKNRcAAAABABnjlqQr8Bf2bmuPFW0bqhAAAAE0GaPkmoQWyZTAh3//6plgAAlYAAAAAQQZ5cRRUsL/8BDvQRY4CfSQAAABABnnt0Qr8Bdc0SJ8WYo1FxAAAAEAGefWpCvwF/Zua48VbRuqAAAAASQZpiSahBbJlMCG///qeEAAEnAAAAEEGegEUVLC//AQ70EWOAn0kAAAAQAZ6/dEK/AXXNEifFmKNRcAAAABABnqFqQr8Bf2bmuPFW0bqhAAAAEkGapkmoQWyZTAhn//6eEAAEfAAAABBBnsRFFSwv/wEO9BFjgJ9JAAAAEAGe43RCvwF1zRInxZijUXEAAAAQAZ7lakK/AX9m5rjxVtG6oQAAABpBmulLqEIQWyRGCCgH8gH9h4AhX/44QAARcQAAACNBnwhCFf8Cr2PtQcTdqsNJJt5U1lH0YD6EHQVYtPLdJ/cbMAAAABABnydpEK8BdbIhFoOSmyi4AAAMaW1vb3YAAABsbXZoZAAAAAAAAAAAAAAAAAAAA+gAAB+QAAEAAAEAAAAAAAAAAAAAAAABAAAAAAAAAAAAAAAAAAAAAQAAAAAAAAAAAAAAAAAAQAAAAAAAAAAAAAAAAAAAAAAAAAAAAAAAAAAAAAAAAAIAAAuTdHJhawAAAFx0a2hkAAAAAwAAAAAAAAAAAAAAAQAAAAAAAB+QAAAAAAAAAAAAAAAAAAAAAAABAAAAAAAAAAAAAAAAAAAAAQAAAAAAAAAAAAAAAAAAQAAAAAEQAAABEAAAAAAAJGVkdHMAAAAcZWxzdAAAAAAAAAABAAAfkAAABAAAAQAAAAALC21kaWEAAAAgbWRoZAAAAAAAAAAAAAAAAAAAMgAAAZQAVcQAAAAAAC1oZGxyAAAAAAAAAAB2aWRlAAAAAAAAAAAAAAAAVmlkZW9IYW5kbGVyAAAACrZtaW5mAAAAFHZtaGQAAAABAAAAAAAAAAAAAAAkZGluZgAAABxkcmVmAAAAAAAAAAEAAAAMdXJsIAAAAAEAAAp2c3RibAAAAJZzdHNkAAAAAAAAAAEAAACGYXZjMQAAAAAAAAABAAAAAAAAAAAAAAAAAAAAAAEQARAASAAAAEgAAAAAAAAAAQAAAAAAAAAAAAAAAAAAAAAAAAAAAAAAAAAAAAAAAAAAABj//wAAADBhdmNDAfQADf/hABdn9AANkZsoIhHQgAAAAwCAAAAZB4oUywEABmjr48RIRAAAABhzdHRzAAAAAAAAAAEAAADKAAACAAAAABRzdHNzAAAAAAAAAAEAAAABAAAGQGN0dHMAAAAAAAAAxgAAAAQAAAQAAAAAAQAACgAAAAABAAAEAAAAAAEAAAAAAAAAAQAAAgAAAAABAAAKAAAAAAEAAAQAAAAAAQAAAAAAAAABAAACAAAAAAEAAAoAAAAAAQAABAAAAAABAAAAAAAAAAEAAAIAAAAAAQAACgAAAAABAAAEAAAAAAEAAAAAAAAAAQAAAgAAAAABAAAKAAAAAAEAAAQAAAAAAQAAAAAAAAABAAACAAAAAAEAAAoAAAAAAQAABAAAAAABAAAAAAAAAAEAAAIAAAAAAQAACgAAAAABAAAEAAAAAAEAAAAAAAAAAQAAAgAAAAABAAAKAAAAAAEAAAQAAAAAAQAAAAAAAAABAAACAAAAAAEAAAoAAAAAAQAABAAAAAABAAAAAAAAAAEAAAIAAAAAAgAABAAAAAABAAAKAAAAAAEAAAQAAAAAAQAAAAAAAAABAAACAAAAAAEAAAoAAAAAAQAABAAAAAABAAAAAAAAAAEAAAIAAAAAAQAACgAAAAABAAAEAAAAAAEAAAAAAAAAAQAAAgAAAAABAAAKAAAAAAEAAAQAAAAAAQAAAAAAAAABAAACAAAAAAEAAAoAAAAAAQAABAAAAAABAAAAAAAAAAEAAAIAAAAAAQAACgAAAAABAAAEAAAAAAEAAAAAAAAAAQAAAgAAAAABAAAKAAAAAAEAAAQAAAAAAQAAAAAAAAABAAACAAAAAAEAAAoAAAAAAQAABAAAAAABAAAAAAAAAAEAAAIAAAAAAQAACgAAAAABAAAEAAAAAAEAAAAAAAAAAQAAAgAAAAABAAAKAAAAAAEAAAQAAAAAAQAAAAAAAAABAAACAAAAAAEAAAoAAAAAAQAABAAAAAABAAAAAAAAAAEAAAIAAAAAAQAACgAAAAABAAAEAAAAAAEAAAAAAAAAAQAAAgAAAAABAAAKAAAAAAEAAAQAAAAAAQAAAAAAAAABAAACAAAAAAEAAAoAAAAAAQAABAAAAAABAAAAAAAAAAEAAAIAAAAAAQAACgAAAAABAAAEAAAAAAEAAAAAAAAAAQAAAgAAAAABAAAKAAAAAAEAAAQAAAAAAQAAAAAAAAABAAACAAAAAAEAAAoAAAAAAQAABAAAAAABAAAAAAAAAAEAAAIAAAAAAQAACgAAAAABAAAEAAAAAAEAAAAAAAAAAQAAAgAAAAABAAAKAAAAAAEAAAQAAAAAAQAAAAAAAAABAAACAAAAAAEAAAoAAAAAAQAABAAAAAABAAAAAAAAAAEAAAIAAAAAAQAACgAAAAABAAAEAAAAAAEAAAAAAAAAAQAAAgAAAAABAAAKAAAAAAEAAAQAAAAAAQAAAAAAAAABAAACAAAAAAEAAAoAAAAAAQAABAAAAAABAAAAAAAAAAEAAAIAAAAAAQAACgAAAAABAAAEAAAAAAEAAAAAAAAAAQAAAgAAAAABAAAKAAAAAAEAAAQAAAAAAQAAAAAAAAABAAACAAAAAAEAAAoAAAAAAQAABAAAAAABAAAAAAAAAAEAAAIAAAAAAQAACgAAAAABAAAEAAAAAAEAAAAAAAAAAQAAAgAAAAABAAAKAAAAAAEAAAQAAAAAAQAAAAAAAAABAAACAAAAAAEAAAoAAAAAAQAABAAAAAABAAAAAAAAAAEAAAIAAAAAAQAACgAAAAABAAAEAAAAAAEAAAAAAAAAAQAAAgAAAAABAAAKAAAAAAEAAAQAAAAAAQAAAAAAAAABAAACAAAAAAEAAAoAAAAAAQAABAAAAAABAAAAAAAAAAEAAAIAAAAAAQAACgAAAAABAAAEAAAAAAEAAAAAAAAAAQAAAgAAAAABAAAEAAAAAAEAAAoAAAAAAQAABAAAAAABAAAAAAAAAAEAAAIAAAAAAQAACgAAAAABAAAEAAAAAAEAAAAAAAAAAQAAAgAAAAABAAAKAAAAAAEAAAQAAAAAAQAAAAAAAAABAAACAAAAAAEAAAoAAAAAAQAABAAAAAABAAAAAAAAAAEAAAIAAAAAAQAACgAAAAABAAAEAAAAAAEAAAAAAAAAAQAAAgAAAAABAAAKAAAAAAEAAAQAAAAAAQAAAAAAAAABAAACAAAAAAEAAAgAAAAAAQAABAAAAAABAAAAAAAAABxzdHNjAAAAAAAAAAEAAAABAAAAygAAAAEAAAM8c3RzegAAAAAAAAAAAAAAygAABcAAAAAaAAAAHAAAAB0AAABLAAAAGQAAABMAAAAUAAAAJgAAABUAAAAUAAAAEwAAABcAAAAQAAAAFAAAABQAAAAXAAAAEAAAABQAAAAUAAAAFwAAABAAAAAUAAAAFAAAABcAAAAQAAAAFAAAABQAAAAXAAAAEAAAABQAAAAUAAAAFgAAABAAAAAUAAAAFAAAABYAAAAYAAAAFAAAABQAAAAgAAAAHAAAAFQAAAAYAAAAFAAAABQAAAAXAAAAEAAAABMAAAATAAAAFwAAABAAAAATAAAAFAAAABcAAAAQAAAAEwAAABMAAAAXAAAAEAAAABMAAAATAAAAFwAAABAAAAATAAAAEwAAABcAAAAQAAAAEwAAABMAAAAXAAAAEAAAABMAAAATAAAAFwAAABAAAAATAAAAEwAAACIAAAAUAAAAEwAAABMAAAAXAAAAFwAAABQAAAATAAAAFwAAABQAAAAUAAAAEwAAABcAAAAUAAAAFAAAABMAAAAXAAAAFAAAABQAAAATAAAAFwAAABQAAAAUAAAAEwAAABcAAAAUAAAAFAAAABMAAAAhAAAAFgAAABQAAAAUAAAAFwAAABAAAAATAAAAEwAAABcAAAAQAAAAEwAAABMAAAAXAAAAEAAAABMAAAATAAAAFwAAABAAAAATAAAAEwAAABcAAAAQAAAAEwAAABMAAAAXAAAAEAAAABMAAAATAAAAFwAAABAAAAATAAAAEwAAABcAAAAQAAAAEwAAABMAAAAXAAAAEAAAABMAAAATAAAAFwAAABAAAAATAAAAEwAAABcAAAAQAAAAEwAAABMAAAAXAAAAEAAAABQAAAATAAAAFwAAABAAAAATAAAAEwAAABcAAAAQAAAAEwAAABMAAAAXAAAAEAAAABMAAAATAAAAFgAAABAAAAATAAAAEwAAAB0AAAAWAAAAFwAAABQAAAAUAAAAFwAAABQAAAAUAAAAFAAAABcAAAAUAAAAFAAAABQAAAAXAAAAFAAAABQAAAAUAAAAFgAAABQAAAAUAAAAFAAAABYAAAAUAAAAFAAAABQAAAAeAAAAJwAAABQAAAAUc3RjbwAAAAAAAAABAAAAMAAAAGJ1ZHRhAAAAWm1ldGEAAAAAAAAAIWhkbHIAAAAAAAAAAG1kaXJhcHBsAAAAAAAAAAAAAAAALWlsc3QAAAAlqXRvbwAAAB1kYXRhAAAAAQAAAABMYXZmNTYuMzYuMTAw\" type=\"video/mp4\" />\n",
       "             </video>"
      ],
      "text/plain": [
       "<IPython.core.display.HTML object>"
      ]
     },
     "execution_count": 22,
     "metadata": {},
     "output_type": "execute_result"
    }
   ],
   "source": [
    "HTML(display_videos('cnn_test10.mp4'))"
   ]
  },
  {
   "cell_type": "code",
   "execution_count": 23,
   "metadata": {},
   "outputs": [
    {
     "data": {
      "text/html": [
       "<video alt=\"test\" controls>\n",
       "                <source src=\"data:video/mp4;base64,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\" type=\"video/mp4\" />\n",
       "             </video>"
      ],
      "text/plain": [
       "<IPython.core.display.HTML object>"
      ]
     },
     "execution_count": 23,
     "metadata": {},
     "output_type": "execute_result"
    }
   ],
   "source": [
    "HTML(display_videos('fc_test10.mp4'))"
   ]
  },
  {
   "cell_type": "markdown",
   "metadata": {},
   "source": [
    "We observe that the CNN model gets better results than the fully connected model (9.2 vs 8.2). We also observe that both model tend to get stuck in infinite loops.\n",
    "\n",
    "Below we train and test both models with a higher temperature (more elements on the map)."
   ]
  },
  {
   "cell_type": "code",
   "execution_count": 24,
   "metadata": {
    "scrolled": true
   },
   "outputs": [
    {
     "name": "stdout",
     "output_type": "stream",
     "text": [
      "Epoch 000/050 | Loss 0.0195 | Win/lose count 17.5/7.0 (10.5)\n",
      "Epoch 001/050 | Loss 0.0065 | Win/lose count 22.5/4.0 (18.5)\n",
      "Epoch 002/050 | Loss 0.0207 | Win/lose count 13.0/4.0 (9.0)\n",
      "Epoch 003/050 | Loss 0.0194 | Win/lose count 10.0/8.0 (2.0)\n",
      "Epoch 004/050 | Loss 0.0154 | Win/lose count 13.0/0 (13.0)\n",
      "Epoch 005/050 | Loss 0.0207 | Win/lose count 19.0/4.0 (15.0)\n",
      "Epoch 006/050 | Loss 0.0186 | Win/lose count 16.5/5.0 (11.5)\n",
      "Epoch 007/050 | Loss 0.0141 | Win/lose count 16.0/1.0 (15.0)\n",
      "Epoch 008/050 | Loss 0.0096 | Win/lose count 27.5/3.0 (24.5)\n",
      "Epoch 009/050 | Loss 0.0168 | Win/lose count 22.5/1.0 (21.5)\n",
      "Epoch 010/050 | Loss 0.0177 | Win/lose count 27.5/2.0 (25.5)\n",
      "Epoch 011/050 | Loss 0.0173 | Win/lose count 33.5/3.0 (30.5)\n",
      "Epoch 012/050 | Loss 0.0179 | Win/lose count 34.5/3.0 (31.5)\n",
      "Epoch 013/050 | Loss 0.0241 | Win/lose count 23.5/6.0 (17.5)\n",
      "Epoch 014/050 | Loss 0.0207 | Win/lose count 30.5/4.0 (26.5)\n",
      "Epoch 015/050 | Loss 0.0154 | Win/lose count 30.0/4.0 (26.0)\n",
      "Epoch 016/050 | Loss 0.0297 | Win/lose count 46.0/5.0 (41.0)\n",
      "Epoch 017/050 | Loss 0.0175 | Win/lose count 23.5/2.0 (21.5)\n",
      "Epoch 018/050 | Loss 0.0193 | Win/lose count 23.0/1.0 (22.0)\n",
      "Epoch 019/050 | Loss 0.0224 | Win/lose count 26.5/1.0 (25.5)\n",
      "Epoch 020/050 | Loss 0.0136 | Win/lose count 33.0/4.0 (29.0)\n",
      "Epoch 021/050 | Loss 0.0104 | Win/lose count 23.0/0 (23.0)\n",
      "Epoch 022/050 | Loss 0.0202 | Win/lose count 51.0/4.0 (47.0)\n",
      "Epoch 023/050 | Loss 0.0117 | Win/lose count 47.0/3.0 (44.0)\n",
      "Epoch 024/050 | Loss 0.0317 | Win/lose count 57.0/7.0 (50.0)\n",
      "Epoch 025/050 | Loss 0.0378 | Win/lose count 58.0/1.0 (57.0)\n",
      "Epoch 026/050 | Loss 0.0134 | Win/lose count 47.5/0 (47.5)\n",
      "Epoch 027/050 | Loss 0.0184 | Win/lose count 57.0/2.0 (55.0)\n",
      "Epoch 028/050 | Loss 0.0179 | Win/lose count 44.0/3.0 (41.0)\n",
      "Epoch 029/050 | Loss 0.0286 | Win/lose count 61.5/3.0 (58.5)\n",
      "Epoch 030/050 | Loss 0.0153 | Win/lose count 44.0/5.0 (39.0)\n",
      "Epoch 031/050 | Loss 0.0096 | Win/lose count 32.0/3.0 (29.0)\n",
      "Epoch 032/050 | Loss 0.0134 | Win/lose count 51.0/2.0 (49.0)\n",
      "Epoch 033/050 | Loss 0.0156 | Win/lose count 53.0/0 (53.0)\n",
      "Epoch 034/050 | Loss 0.0160 | Win/lose count 54.0/0 (54.0)\n",
      "Epoch 035/050 | Loss 0.0183 | Win/lose count 46.0/3.0 (43.0)\n",
      "Epoch 036/050 | Loss 0.0125 | Win/lose count 50.5/5.0 (45.5)\n",
      "Epoch 037/050 | Loss 0.0187 | Win/lose count 39.0/4.0 (35.0)\n",
      "Epoch 038/050 | Loss 0.0191 | Win/lose count 55.5/5.0 (50.5)\n",
      "Epoch 039/050 | Loss 0.0117 | Win/lose count 16.5/3.0 (13.5)\n",
      "Epoch 040/050 | Loss 0.0135 | Win/lose count 25.5/0 (25.5)\n",
      "Epoch 041/050 | Loss 0.0137 | Win/lose count 49.0/4.0 (45.0)\n",
      "Epoch 042/050 | Loss 0.0205 | Win/lose count 49.5/1.0 (48.5)\n",
      "Epoch 043/050 | Loss 0.0085 | Win/lose count 56.0/3.0 (53.0)\n",
      "Epoch 044/050 | Loss 0.0090 | Win/lose count 40.5/4.0 (36.5)\n",
      "Epoch 045/050 | Loss 0.0151 | Win/lose count 60.0/5.0 (55.0)\n",
      "Epoch 046/050 | Loss 0.0127 | Win/lose count 55.5/0 (55.5)\n",
      "Epoch 047/050 | Loss 0.0172 | Win/lose count 52.0/0 (52.0)\n",
      "Epoch 048/050 | Loss 0.0104 | Win/lose count 45.5/1.0 (44.5)\n",
      "Epoch 049/050 | Loss 0.0161 | Win/lose count 26.0/4.0 (22.0)\n",
      "Epoch 000/050 | Loss 0.0016 | Win/lose count 10.5/4.0 (6.5)\n",
      "Epoch 001/050 | Loss 0.0056 | Win/lose count 10.5/3.0 (7.5)\n",
      "Epoch 002/050 | Loss 0.0083 | Win/lose count 14.5/6.0 (8.5)\n",
      "Epoch 003/050 | Loss 0.0052 | Win/lose count 10.5/4.0 (6.5)\n",
      "Epoch 004/050 | Loss 0.0179 | Win/lose count 9.5/1.0 (8.5)\n",
      "Epoch 005/050 | Loss 0.0128 | Win/lose count 16.5/3.0 (13.5)\n",
      "Epoch 006/050 | Loss 0.0116 | Win/lose count 19.0/4.0 (15.0)\n",
      "Epoch 007/050 | Loss 0.0069 | Win/lose count 16.5/1.0 (15.5)\n",
      "Epoch 008/050 | Loss 0.0116 | Win/lose count 36.0/8.0 (28.0)\n",
      "Epoch 009/050 | Loss 0.0212 | Win/lose count 20.5/4.0 (16.5)\n",
      "Epoch 010/050 | Loss 0.0098 | Win/lose count 28.5/1.0 (27.5)\n",
      "Epoch 011/050 | Loss 0.0163 | Win/lose count 32.0/0 (32.0)\n",
      "Epoch 012/050 | Loss 0.0170 | Win/lose count 43.0/4.0 (39.0)\n",
      "Epoch 013/050 | Loss 0.0165 | Win/lose count 44.5/1.0 (43.5)\n",
      "Epoch 014/050 | Loss 0.0099 | Win/lose count 37.0/1.0 (36.0)\n",
      "Epoch 015/050 | Loss 0.0262 | Win/lose count 49.5/3.0 (46.5)\n",
      "Epoch 016/050 | Loss 0.0211 | Win/lose count 35.5/4.0 (31.5)\n",
      "Epoch 017/050 | Loss 0.0079 | Win/lose count 43.5/5.0 (38.5)\n",
      "Epoch 018/050 | Loss 0.0164 | Win/lose count 60.0/7.0 (53.0)\n",
      "Epoch 019/050 | Loss 0.0149 | Win/lose count 47.0/5.0 (42.0)\n",
      "Epoch 020/050 | Loss 0.0125 | Win/lose count 49.0/2.0 (47.0)\n",
      "Epoch 021/050 | Loss 0.0431 | Win/lose count 52.5/5.0 (47.5)\n",
      "Epoch 022/050 | Loss 0.0092 | Win/lose count 32.0/3.0 (29.0)\n",
      "Epoch 023/050 | Loss 0.0088 | Win/lose count 58.5/8.0 (50.5)\n",
      "Epoch 024/050 | Loss 0.0135 | Win/lose count 45.0/9.0 (36.0)\n",
      "Epoch 025/050 | Loss 0.0182 | Win/lose count 62.0/5.0 (57.0)\n",
      "Epoch 026/050 | Loss 0.0123 | Win/lose count 41.0/5.0 (36.0)\n",
      "Epoch 027/050 | Loss 0.0149 | Win/lose count 56.5/4.0 (52.5)\n",
      "Epoch 028/050 | Loss 0.0150 | Win/lose count 61.0/1.0 (60.0)\n",
      "Epoch 029/050 | Loss 0.0058 | Win/lose count 47.5/2.0 (45.5)\n",
      "Epoch 030/050 | Loss 0.0162 | Win/lose count 65.0/3.0 (62.0)\n",
      "Epoch 031/050 | Loss 0.0077 | Win/lose count 55.0/2.0 (53.0)\n",
      "Epoch 032/050 | Loss 0.0136 | Win/lose count 53.5/0 (53.5)\n",
      "Epoch 033/050 | Loss 0.0134 | Win/lose count 48.0/3.0 (45.0)\n",
      "Epoch 034/050 | Loss 0.0089 | Win/lose count 48.0/2.0 (46.0)\n",
      "Epoch 035/050 | Loss 0.0112 | Win/lose count 58.0/6.0 (52.0)\n",
      "Epoch 036/050 | Loss 0.0139 | Win/lose count 49.5/2.0 (47.5)\n",
      "Epoch 037/050 | Loss 0.0149 | Win/lose count 51.0/2.0 (49.0)\n",
      "Epoch 038/050 | Loss 0.0153 | Win/lose count 51.5/4.0 (47.5)\n",
      "Epoch 039/050 | Loss 0.0088 | Win/lose count 58.0/2.0 (56.0)\n",
      "Epoch 040/050 | Loss 0.0095 | Win/lose count 56.0/4.0 (52.0)\n",
      "Epoch 041/050 | Loss 0.0079 | Win/lose count 45.0/5.0 (40.0)\n",
      "Epoch 042/050 | Loss 0.0117 | Win/lose count 37.0/3.0 (34.0)\n",
      "Epoch 043/050 | Loss 0.0174 | Win/lose count 52.5/3.0 (49.5)\n",
      "Epoch 044/050 | Loss 0.0099 | Win/lose count 59.0/2.0 (57.0)\n",
      "Epoch 045/050 | Loss 0.0082 | Win/lose count 56.5/0 (56.5)\n",
      "Epoch 046/050 | Loss 0.0265 | Win/lose count 45.5/7.0 (38.5)\n",
      "Epoch 047/050 | Loss 0.0270 | Win/lose count 40.0/2.0 (38.0)\n",
      "Epoch 048/050 | Loss 0.0216 | Win/lose count 33.0/3.0 (30.0)\n",
      "Epoch 049/050 | Loss 0.0173 | Win/lose count 57.5/7.0 (50.5)\n",
      "Test of the HOT CNN\n",
      "Win/lose count 52.5/3.0. Average score (49.5)\n",
      "Win/lose count 49.5/2.0. Average score (48.5)\n",
      "Win/lose count 51.5/4.0. Average score (48.166666666666664)\n",
      "Win/lose count 49.0/9.0. Average score (46.125)\n",
      "Win/lose count 54.5/8.0. Average score (46.2)\n",
      "Win/lose count 56.5/7.0. Average score (46.75)\n",
      "Win/lose count 57.0/6.0. Average score (47.357142857142854)\n",
      "Win/lose count 52.0/5.0. Average score (47.3125)\n",
      "Win/lose count 56.5/4.0. Average score (47.888888888888886)\n",
      "Win/lose count 61.0/7.0. Average score (48.5)\n",
      "Win/lose count 66.5/3.0. Average score (49.86363636363637)\n",
      "Win/lose count 64.0/3.0. Average score (50.791666666666664)\n",
      "Win/lose count 58.5/3.0. Average score (51.15384615384615)\n",
      "Win/lose count 53.0/2.0. Average score (51.142857142857146)\n",
      "Win/lose count 50.5/2.0. Average score (50.96666666666667)\n",
      "Win/lose count 53.5/6.0. Average score (50.75)\n",
      "Win/lose count 40.0/3.0. Average score (49.94117647058823)\n",
      "Win/lose count 48.5/4.0. Average score (49.638888888888886)\n",
      "Win/lose count 50.5/1.0. Average score (49.63157894736842)\n",
      "Win/lose count 52.5/9.0. Average score (49.325)\n",
      "Win/lose count 62.5/4.0. Average score (49.76190476190476)\n",
      "Win/lose count 53.5/3.0. Average score (49.79545454545455)\n",
      "Win/lose count 49.5/3.0. Average score (49.65217391304348)\n",
      "Win/lose count 56.5/9.0. Average score (49.5625)\n",
      "Win/lose count 54.5/7.0. Average score (49.48)\n",
      "Win/lose count 49.0/6.0. Average score (49.23076923076923)\n",
      "Win/lose count 57.0/3.0. Average score (49.407407407407405)\n",
      "Win/lose count 48.0/4.0. Average score (49.214285714285715)\n",
      "Win/lose count 46.0/3.0. Average score (49.0)\n",
      "Win/lose count 56.0/4.0. Average score (49.1)\n",
      "Final score: 49.1\n",
      "Test of the HOT FC\n",
      "Win/lose count 59.5/3.0. Average score (56.5)\n",
      "Win/lose count 14.5/0. Average score (35.5)\n",
      "Win/lose count 51.0/4.0. Average score (39.333333333333336)\n",
      "Win/lose count 52.5/4.0. Average score (41.625)\n",
      "Win/lose count 52.5/4.0. Average score (43.0)\n",
      "Win/lose count 62.5/5.0. Average score (45.416666666666664)\n",
      "Win/lose count 55.5/5.0. Average score (46.142857142857146)\n",
      "Win/lose count 48.0/4.0. Average score (45.875)\n",
      "Win/lose count 64.0/2.0. Average score (47.666666666666664)\n"
     ]
    },
    {
     "name": "stdout",
     "output_type": "stream",
     "text": [
      "Win/lose count 59.0/1.0. Average score (48.7)\n",
      "Win/lose count 56.5/0. Average score (49.40909090909091)\n",
      "Win/lose count 61.5/2.0. Average score (50.25)\n",
      "Win/lose count 23.5/1.0. Average score (48.11538461538461)\n",
      "Win/lose count 59.0/2.0. Average score (48.75)\n",
      "Win/lose count 54.5/2.0. Average score (49.0)\n",
      "Win/lose count 55.5/1.0. Average score (49.34375)\n",
      "Win/lose count 34.5/2.0. Average score (48.35294117647059)\n",
      "Win/lose count 42.5/2.0. Average score (47.916666666666664)\n",
      "Win/lose count 62.5/2.0. Average score (48.578947368421055)\n",
      "Win/lose count 29.0/3.0. Average score (47.45)\n",
      "Win/lose count 39.0/4.0. Average score (46.857142857142854)\n",
      "Win/lose count 59.5/2.0. Average score (47.34090909090909)\n",
      "Win/lose count 47.0/3.0. Average score (47.19565217391305)\n",
      "Win/lose count 39.0/2.0. Average score (46.770833333333336)\n",
      "Win/lose count 57.0/1.0. Average score (47.14)\n",
      "Win/lose count 20.5/0. Average score (46.11538461538461)\n",
      "Win/lose count 44.0/6.0. Average score (45.81481481481482)\n",
      "Win/lose count 27.0/2.0. Average score (45.07142857142857)\n",
      "Win/lose count 50.0/6.0. Average score (45.03448275862069)\n",
      "Win/lose count 49.5/3.0. Average score (45.083333333333336)\n",
      "Final score: 45.083333333333336\n"
     ]
    }
   ],
   "source": [
    "temperature = 0.8\n",
    "\n",
    "print(\"training hot FC:\")\n",
    "env = Environment(grid_size=size, max_time=T, temperature=temperature)\n",
    "agent = DQN_FC(size, lr=.1, epsilon = 0.1, memory_size=2000, batch_size = 32)\n",
    "train(agent, env, epochs_train, prefix='fc_train_hot')\n",
    "HTML(display_videos('fc_train_hot10.mp4'))\n",
    "\n",
    "\n",
    "print(\"training hot CNN:\")\n",
    "env = Environment(grid_size=size, max_time=T, temperature=temperature)\n",
    "agent = DQN_CNN(size, lr=.1, epsilon = 0.1, memory_size=2000, batch_size = 32)\n",
    "train(agent, env, epochs_train, prefix='cnn_train_hot')\n",
    "HTML(display_videos('cnn_train_hot10.mp4'))\n",
    "\n",
    "\n",
    "agent_cnn = DQN_CNN(size, lr=.1, epsilon = 0.1, memory_size=2000, batch_size = 32)\n",
    "agent_cnn.load(name_weights='cnn_train_hotmodel.h5',name_model='cnn_train_hotmodel.json')\n",
    "\n",
    "agent_fc = DQN_FC(size, lr=.1, epsilon = 0.1, memory_size=2000, batch_size = 32)\n",
    "agent_fc.load(name_weights='fc_train_hotmodel.h5',name_model='fc_train_hotmodel.json')\n",
    "print('Test of the HOT CNN')\n",
    "np.random.seed(0)\n",
    "env = Environment(grid_size=size, max_time=T,temperature=temperature)\n",
    "test(agent_cnn, env,epochs_test, prefix='cnn_test_hot')\n",
    "print('Test of the HOT FC')\n",
    "np.random.seed(0)\n",
    "env = Environment(grid_size=size, max_time=T,temperature=temperature)\n",
    "test(agent_fc, env,epochs_test, prefix='fc_test_hot')"
   ]
  },
  {
   "cell_type": "code",
   "execution_count": 27,
   "metadata": {},
   "outputs": [
    {
     "data": {
      "text/html": [
       "<video alt=\"test\" controls>\n",
       "                <source src=\"data:video/mp4;base64,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\" type=\"video/mp4\" />\n",
       "             </video>"
      ],
      "text/plain": [
       "<IPython.core.display.HTML object>"
      ]
     },
     "execution_count": 27,
     "metadata": {},
     "output_type": "execute_result"
    }
   ],
   "source": [
    "HTML(display_videos('cnn_test_hot10.mp4'))"
   ]
  },
  {
   "cell_type": "code",
   "execution_count": 28,
   "metadata": {},
   "outputs": [
    {
     "data": {
      "text/html": [
       "<video alt=\"test\" controls>\n",
       "                <source src=\"data:video/mp4;base64,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\" type=\"video/mp4\" />\n",
       "             </video>"
      ],
      "text/plain": [
       "<IPython.core.display.HTML object>"
      ]
     },
     "execution_count": 28,
     "metadata": {},
     "output_type": "execute_result"
    }
   ],
   "source": [
    "HTML(display_videos('fc_test_hot10.mp4'))"
   ]
  },
  {
   "cell_type": "markdown",
   "metadata": {},
   "source": [
    "Once again the CNN is better than the FC model (49.1 vs 45.1). From what we observe in the videos, the agent tends to explore more the map. It can be explained because temperature not only increases the number of elements on the map but it also increases the ratio (number of cheese / number of poison), so exploration of the map is very well rewarded. On the other hand, with a lower temperature the agent tends to focus on avoiding poisonous cells.\n",
    "\n",
    "We can still observe that the agent is getting stuck in infinite loops.\n",
    "\n",
    "What if we now test our agent but this time we disable the exploration ? In theory the agent should have better results:"
   ]
  },
  {
   "cell_type": "code",
   "execution_count": 25,
   "metadata": {
    "scrolled": true
   },
   "outputs": [
    {
     "name": "stdout",
     "output_type": "stream",
     "text": [
      "Test of the HOT CNN\n",
      "Win/lose count 52.5/0. Average score (52.5)\n",
      "Win/lose count 54.5/2.0. Average score (52.5)\n",
      "Win/lose count 43.5/0. Average score (49.5)\n",
      "Win/lose count 52.5/5.0. Average score (49.0)\n",
      "Win/lose count 59.0/2.0. Average score (50.6)\n",
      "Win/lose count 48.0/1.0. Average score (50.0)\n",
      "Win/lose count 32.0/0. Average score (47.42857142857143)\n",
      "Win/lose count 47.5/5.0. Average score (46.8125)\n",
      "Win/lose count 53.0/0. Average score (47.5)\n",
      "Win/lose count 44.5/0. Average score (47.2)\n",
      "Win/lose count 57.0/2.0. Average score (47.90909090909091)\n",
      "Win/lose count 27.5/2.0. Average score (46.041666666666664)\n",
      "Win/lose count 64.0/5.0. Average score (47.03846153846154)\n",
      "Win/lose count 32.5/1.0. Average score (45.92857142857143)\n",
      "Win/lose count 33.5/0. Average score (45.1)\n",
      "Win/lose count 47.5/1.0. Average score (45.1875)\n",
      "Win/lose count 30.0/1.0. Average score (44.23529411764706)\n",
      "Win/lose count 33.5/1.0. Average score (43.583333333333336)\n",
      "Win/lose count 55.5/1.0. Average score (44.1578947368421)\n",
      "Win/lose count 53.5/2.0. Average score (44.525)\n",
      "Win/lose count 26.5/1.0. Average score (43.61904761904762)\n",
      "Win/lose count 44.5/2.0. Average score (43.56818181818182)\n",
      "Win/lose count 44.5/2.0. Average score (43.52173913043478)\n",
      "Win/lose count 64.0/3.0. Average score (44.25)\n",
      "Win/lose count 43.0/4.0. Average score (44.04)\n",
      "Win/lose count 61.5/3.0. Average score (44.59615384615385)\n",
      "Win/lose count 35.5/1.0. Average score (44.22222222222222)\n",
      "Win/lose count 35.5/2.0. Average score (43.839285714285715)\n",
      "Win/lose count 27.5/0. Average score (43.275862068965516)\n",
      "Win/lose count 46.0/2.0. Average score (43.3)\n",
      "Final score: 43.3\n"
     ]
    }
   ],
   "source": [
    "# now we test again the CNN but with no exploration during the test phase\n",
    "temperature = 0.8\n",
    "\n",
    "agent_cnn = DQN_CNN(size, lr=.1, epsilon = 0., memory_size=2000, batch_size = 32)\n",
    "agent_cnn.load(name_weights='cnn_train_hotmodel.h5',name_model='cnn_train_hotmodel.json')\n",
    "\n",
    "print('Test of the HOT CNN')\n",
    "np.random.seed(0)\n",
    "env = Environment(grid_size=size, max_time=T,temperature=temperature)\n",
    "test(agent_cnn, env,epochs_test, prefix='cnn_test_hot')"
   ]
  },
  {
   "cell_type": "markdown",
   "metadata": {},
   "source": [
    "We get poorer results when we disable the exploration (43.2 vs 49.1). This can be explained because random exploration is helpful to get out of an infinite loop and help to explore more parts of the map. (and this is very important with a high temperature)."
   ]
  },
  {
   "cell_type": "markdown",
   "metadata": {},
   "source": [
    "***\n",
    "\n",
    "The algorithm tends to not explore the map which can be an issue. We propose two ideas in order to encourage exploration:\n",
    "1. Incorporating a decreasing $\\epsilon$-greedy exploration. You can use the method ```set_epsilon```\n",
    "2. Append via the environment a new state that describes if a cell has been visited or not\n",
    "\n",
    "***\n",
    "__Question 10__ Design a new ```train_explore``` function and environment class ```EnvironmentExploring``` to tackle the issue of exploration.\n",
    "\n"
   ]
  },
  {
   "cell_type": "code",
   "execution_count": 37,
   "metadata": {},
   "outputs": [],
   "source": [
    "def train_explore(agent, env, epoch, prefix=''):\n",
    "    # Number of won games\n",
    "    score = 0\n",
    "    loss = 0\n",
    "    \n",
    "    current_epsilon = 0.2\n",
    "    final_eps = 0.01\n",
    "    \n",
    "    incr = (current_epsilon - final_eps) / epoch\n",
    "\n",
    "    for e in range(epoch):\n",
    "        \n",
    "        current_epsilon -= incr\n",
    "        agent.set_epsilon(current_epsilon)\n",
    "        \n",
    "        # At each epoch, we restart to a fresh game and get the initial state\n",
    "        state = env.reset()\n",
    "        # This assumes that the games will terminate\n",
    "        game_over = False\n",
    "\n",
    "        win = 0\n",
    "        lose = 0\n",
    "\n",
    "        while not game_over:\n",
    "            action = agent.act(state)\n",
    "            prev_state = state\n",
    "            state, reward, game_over = env.act(action, train=True)\n",
    "\n",
    "            # Update the counters\n",
    "            if reward > 0:\n",
    "                win = win + reward\n",
    "            if reward < 0:\n",
    "                lose = lose -reward\n",
    "\n",
    "            # Apply the reinforcement strategy\n",
    "            loss = agent.reinforce(prev_state, state,  action, reward, game_over)\n",
    "\n",
    "        # Save as a mp4\n",
    "        if e % 10 == 0:\n",
    "            env.draw(prefix+str(e))\n",
    "\n",
    "        # Update stats\n",
    "        score += win-lose\n",
    "\n",
    "        print(\"Epoch {:03d}/{:03d} | Loss {:.4f} | Win/lose count {}/{} ({})\"\n",
    "              .format(e, epoch, loss, win, lose, win-lose))\n",
    "        agent.save(name_weights=prefix+'model.h5',name_model=prefix+'model.json')\n",
    "    \n",
    "class EnvironmentExploring(object):\n",
    "    def __init__(self, grid_size=10, max_time=500, temperature=0.1):\n",
    "        grid_size = grid_size+4\n",
    "        self.grid_size = grid_size\n",
    "        self.max_time = max_time\n",
    "        self.temperature = temperature\n",
    "\n",
    "        #board on which one plays\n",
    "        self.board = np.zeros((grid_size,grid_size))\n",
    "        self.position = np.zeros((grid_size,grid_size))\n",
    "        self.malus_position = np.zeros((grid_size,grid_size)).astype(int)\n",
    "\n",
    "        # coordinate of the cat\n",
    "        self.x = 0\n",
    "        self.y = 1\n",
    "\n",
    "        # self time\n",
    "        self.t = 0\n",
    "\n",
    "        self.scale=16\n",
    "\n",
    "        self.to_draw = np.zeros((max_time+2, grid_size*self.scale, grid_size*self.scale, 3))\n",
    "\n",
    "\n",
    "    def draw(self,e):\n",
    "        skvideo.io.vwrite(str(e) + '.mp4', self.to_draw)\n",
    "\n",
    "    def get_frame(self,t):\n",
    "        b = np.zeros((self.grid_size,self.grid_size,3))+128\n",
    "        b[self.board>0,0] = 256\n",
    "        b[self.board < 0, 2] = 256\n",
    "        b[self.x,self.y,:]=256\n",
    "        b[-2:,:,:]=0\n",
    "        b[:,-2:,:]=0\n",
    "        b[:2,:,:]=0\n",
    "        b[:,:2,:]=0\n",
    "        \n",
    "        b =  cv2.resize(b, None, fx=self.scale, fy=self.scale, interpolation=cv2.INTER_NEAREST)\n",
    "\n",
    "        self.to_draw[t,:,:,:]=b\n",
    "\n",
    "\n",
    "    def act(self, action, train=False):\n",
    "        \"\"\"This function returns the new state, reward and decides if the\n",
    "        game ends.\"\"\"\n",
    "\n",
    "        self.get_frame(int(self.t))\n",
    "\n",
    "        self.position = np.zeros((self.grid_size, self.grid_size))\n",
    "\n",
    "        self.position[0:2,:]= -1\n",
    "        self.position[:,0:2] = -1\n",
    "        self.position[-2:, :] = -1\n",
    "        self.position[-2:, :] = -1\n",
    "\n",
    "        self.position[self.x, self.y] = 1\n",
    "        if action == 0:\n",
    "            if self.x == self.grid_size-3:\n",
    "                self.x = self.x-1\n",
    "            else:\n",
    "                self.x = self.x + 1\n",
    "        elif action == 1:\n",
    "            if self.x == 2:\n",
    "                self.x = self.x+1\n",
    "            else:\n",
    "                self.x = self.x-1\n",
    "        elif action == 2:\n",
    "            if self.y == self.grid_size - 3:\n",
    "                self.y = self.y - 1\n",
    "            else:\n",
    "                self.y = self.y + 1\n",
    "        elif action == 3:\n",
    "            if self.y == 2:\n",
    "                self.y = self.y + 1\n",
    "            else:\n",
    "                self.y = self.y - 1\n",
    "        else:\n",
    "            RuntimeError('Error: action not recognized')\n",
    "            \n",
    "        reward = 0\n",
    "        if train:\n",
    "            reward += -self.malus_position[self.x, self.y]\n",
    "        self.malus_position[self.x, self.y] = 0.1\n",
    "\n",
    "        self.t = self.t + 1\n",
    "        reward += self.board[self.x, self.y]\n",
    "        self.board[self.x, self.y] = 0\n",
    "        game_over = self.t > self.max_time\n",
    "        state = np.concatenate(\n",
    "            (\n",
    "                self.malus_position.reshape(self.grid_size, self.grid_size, 1),\n",
    "                self.board.reshape(self.grid_size, self.grid_size, 1),\n",
    "                self.position.reshape(self.grid_size, self.grid_size,1)\n",
    "            )\n",
    "            , axis=2\n",
    "        )\n",
    "        \n",
    "        state = state[self.x-2:self.x+3,self.y-2:self.y+3,:]\n",
    "\n",
    "        return state, reward, game_over\n",
    "\n",
    "    def reset(self):\n",
    "        \"\"\"This function resets the game and returns the initial state\"\"\"\n",
    "\n",
    "        self.x = np.random.randint(3, self.grid_size-3, size=1)[0]\n",
    "        self.y = np.random.randint(3, self.grid_size-3, size=1)[0]\n",
    "        \n",
    "        self.malus_position = np.zeros((self.grid_size, self.grid_size))\n",
    "\n",
    "        bonus = 0.5 * np.random.binomial(1, self.temperature, size=self.grid_size**2)\n",
    "        bonus = bonus.reshape(self.grid_size, self.grid_size)\n",
    "\n",
    "        malus = -1.0 * np.random.binomial(1, self.temperature, size=self.grid_size**2)\n",
    "        malus = malus.reshape(self.grid_size, self.grid_size)\n",
    "\n",
    "        self.to_draw = np.zeros((self.max_time+2, self.grid_size*self.scale, self.grid_size*self.scale, 3))\n",
    "\n",
    "\n",
    "        malus[bonus>0]=0\n",
    "\n",
    "        self.board = bonus + malus\n",
    "\n",
    "        self.position = np.zeros((self.grid_size, self.grid_size))\n",
    "        self.position[0:2,:]= -1\n",
    "        self.position[:,0:2] = -1\n",
    "        self.position[-2:, :] = -1\n",
    "        self.position[-2:, :] = -1\n",
    "        self.board[self.x,self.y] = 0\n",
    "        self.t = 0\n",
    "\n",
    "        state = np.concatenate(\n",
    "            (\n",
    "            self.malus_position.reshape(self.grid_size, self.grid_size, 1),\n",
    "            self.board.reshape(self.grid_size, self.grid_size, 1),\n",
    "            self.position.reshape(self.grid_size, self.grid_size,1)\n",
    "            )\n",
    "            , axis=2\n",
    "        )\n",
    "\n",
    "        state = state[self.x - 2:self.x + 3, self.y - 2:self.y + 3, :]\n",
    "        return state"
   ]
  },
  {
   "cell_type": "code",
   "execution_count": 38,
   "metadata": {},
   "outputs": [
    {
     "name": "stdout",
     "output_type": "stream",
     "text": [
      "Epoch 000/050 | Loss 0.0049 | Win/lose count 4.0/21.700000000000045 (-17.700000000000045)\n",
      "Epoch 001/050 | Loss 0.0093 | Win/lose count 2.5/22.900000000000066 (-20.400000000000066)\n",
      "Epoch 002/050 | Loss 0.0093 | Win/lose count 6.5/22.200000000000056 (-15.700000000000056)\n",
      "Epoch 003/050 | Loss 0.0079 | Win/lose count 3.5/23.90000000000009 (-20.40000000000009)\n",
      "Epoch 004/050 | Loss 0.0078 | Win/lose count 4.0/20.80000000000003 (-16.80000000000003)\n",
      "Epoch 005/050 | Loss 0.0087 | Win/lose count 8.5/19.700000000000014 (-11.200000000000014)\n",
      "Epoch 006/050 | Loss 0.0053 | Win/lose count 5.0/21.800000000000054 (-16.800000000000054)\n",
      "Epoch 007/050 | Loss 0.0059 | Win/lose count 1.0/21.600000000000044 (-20.600000000000044)\n",
      "Epoch 008/050 | Loss 0.0061 | Win/lose count 5.0/25.60000000000008 (-20.60000000000008)\n",
      "Epoch 009/050 | Loss 0.0100 | Win/lose count 5.0/20.60000000000003 (-15.60000000000003)\n",
      "Epoch 010/050 | Loss 0.0050 | Win/lose count 5.5/26.300000000000082 (-20.800000000000082)\n",
      "Epoch 011/050 | Loss 0.0038 | Win/lose count 7.0/22.200000000000035 (-15.200000000000035)\n",
      "Epoch 012/050 | Loss 0.0137 | Win/lose count 4.0/22.800000000000015 (-18.800000000000015)\n",
      "Epoch 013/050 | Loss 0.0046 | Win/lose count 9.0/22.200000000000042 (-13.200000000000042)\n",
      "Epoch 014/050 | Loss 0.0029 | Win/lose count 6.5/20.000000000000004 (-13.500000000000004)\n",
      "Epoch 015/050 | Loss 0.0061 | Win/lose count 8.0/18.79999999999999 (-10.79999999999999)\n",
      "Epoch 016/050 | Loss 0.0049 | Win/lose count 7.5/21.30000000000003 (-13.80000000000003)\n",
      "Epoch 017/050 | Loss 0.0030 | Win/lose count 11.0/17.499999999999982 (-6.499999999999982)\n",
      "Epoch 018/050 | Loss 0.0043 | Win/lose count 7.5/19.200000000000006 (-11.700000000000006)\n",
      "Epoch 019/050 | Loss 0.0034 | Win/lose count 7.5/22.500000000000064 (-15.000000000000064)\n",
      "Epoch 020/050 | Loss 0.0099 | Win/lose count 8.0/18.6 (-10.600000000000001)\n",
      "Epoch 021/050 | Loss 0.0028 | Win/lose count 9.0/19.69999999999998 (-10.699999999999982)\n",
      "Epoch 022/050 | Loss 0.0037 | Win/lose count 6.0/18.599999999999998 (-12.599999999999998)\n",
      "Epoch 023/050 | Loss 0.0055 | Win/lose count 7.5/17.99999999999999 (-10.49999999999999)\n",
      "Epoch 024/050 | Loss 0.0118 | Win/lose count 7.5/17.099999999999973 (-9.599999999999973)\n",
      "Epoch 025/050 | Loss 0.0034 | Win/lose count 7.5/17.599999999999984 (-10.099999999999984)\n",
      "Epoch 026/050 | Loss 0.0122 | Win/lose count 9.0/16.199999999999964 (-7.199999999999964)\n",
      "Epoch 027/050 | Loss 0.0067 | Win/lose count 15.5/15.399999999999965 (0.10000000000003517)\n",
      "Epoch 028/050 | Loss 0.0071 | Win/lose count 9.0/19.500000000000004 (-10.500000000000004)\n",
      "Epoch 029/050 | Loss 0.0076 | Win/lose count 4.5/20.1 (-15.600000000000001)\n",
      "Epoch 030/050 | Loss 0.0062 | Win/lose count 19.0/11.599999999999975 (7.400000000000025)\n",
      "Epoch 031/050 | Loss 0.0070 | Win/lose count 3.0/19.39999999999999 (-16.39999999999999)\n",
      "Epoch 032/050 | Loss 0.0056 | Win/lose count 18.0/18.300000000000008 (-0.3000000000000078)\n",
      "Epoch 033/050 | Loss 0.0072 | Win/lose count 10.5/20.600000000000012 (-10.100000000000012)\n",
      "Epoch 034/050 | Loss 0.0055 | Win/lose count 18.0/15.099999999999962 (2.9000000000000377)\n",
      "Epoch 035/050 | Loss 0.0175 | Win/lose count 14.0/14.999999999999964 (-0.9999999999999645)\n",
      "Epoch 036/050 | Loss 0.0075 | Win/lose count 9.0/16.99999999999997 (-7.999999999999972)\n",
      "Epoch 037/050 | Loss 0.0209 | Win/lose count 14.5/17.19999999999998 (-2.6999999999999815)\n",
      "Epoch 038/050 | Loss 0.0152 | Win/lose count 17.0/14.099999999999966 (2.900000000000034)\n",
      "Epoch 039/050 | Loss 0.0140 | Win/lose count 9.5/17.29999999999998 (-7.799999999999979)\n",
      "Epoch 040/050 | Loss 0.0126 | Win/lose count 9.5/17.499999999999982 (-7.999999999999982)\n",
      "Epoch 041/050 | Loss 0.0076 | Win/lose count 7.0/19.80000000000002 (-12.800000000000018)\n",
      "Epoch 042/050 | Loss 0.0163 | Win/lose count 19.5/14.899999999999967 (4.600000000000033)\n",
      "Epoch 043/050 | Loss 0.0160 | Win/lose count 20.5/13.699999999999967 (6.800000000000033)\n",
      "Epoch 044/050 | Loss 0.0114 | Win/lose count 7.0/16.699999999999967 (-9.699999999999967)\n",
      "Epoch 045/050 | Loss 0.0187 | Win/lose count 5.5/21.400000000000038 (-15.900000000000038)\n",
      "Epoch 046/050 | Loss 0.0116 | Win/lose count 5.5/19.500000000000007 (-14.000000000000007)\n",
      "Epoch 047/050 | Loss 0.0151 | Win/lose count 14.0/14.899999999999963 (-0.899999999999963)\n",
      "Epoch 048/050 | Loss 0.0080 | Win/lose count 14.0/17.199999999999974 (-3.1999999999999744)\n",
      "Epoch 049/050 | Loss 0.0104 | Win/lose count 14.5/14.899999999999963 (-0.39999999999996305)\n"
     ]
    },
    {
     "data": {
      "text/html": [
       "<video alt=\"test\" controls>\n",
       "                <source src=\"data:video/mp4;base64,AAAAIGZ0eXBpc29tAAACAGlzb21pc28yYXZjMW1wNDEAAAAIZnJlZQAAF4ptZGF0AAACrgYF//+q3EXpvebZSLeWLNgg2SPu73gyNjQgLSBjb3JlIDE0NiByMjUzOCAxMjEzOTZjIC0gSC4yNjQvTVBFRy00IEFWQyBjb2RlYyAtIENvcHlsZWZ0IDIwMDMtMjAxNSAtIGh0dHA6Ly93d3cudmlkZW9sYW4ub3JnL3gyNjQuaHRtbCAtIG9wdGlvbnM6IGNhYmFjPTEgcmVmPTMgZGVibG9jaz0xOjA6MCBhbmFseXNlPTB4MzoweDExMyBtZT1oZXggc3VibWU9NyBwc3k9MSBwc3lfcmQ9MS4wMDowLjAwIG1peGVkX3JlZj0xIG1lX3JhbmdlPTE2IGNocm9tYV9tZT0xIHRyZWxsaXM9MSA4eDhkY3Q9MSBjcW09MCBkZWFkem9uZT0yMSwxMSBmYXN0X3Bza2lwPTEgY2hyb21hX3FwX29mZnNldD00IHRocmVhZHM9MTIgbG9va2FoZWFkX3RocmVhZHM9MiBzbGljZWRfdGhyZWFkcz0wIG5yPTAgZGVjaW1hdGU9MSBpbnRlcmxhY2VkPTAgYmx1cmF5X2NvbXBhdD0wIGNvbnN0cmFpbmVkX2ludHJhPTAgYmZyYW1lcz0zIGJfcHlyYW1pZD0yIGJfYWRhcHQ9MSBiX2JpYXM9MCBkaXJlY3Q9MSB3ZWlnaHRiPTEgb3Blbl9nb3A9MCB3ZWlnaHRwPTIga2V5aW50PTI1MCBrZXlpbnRfbWluPTI1IHNjZW5lY3V0PTQwIGludHJhX3JlZnJlc2g9MCByY19sb29rYWhlYWQ9NDAgcmM9Y3JmIG1idHJlZT0xIGNyZj0yMy4wIHFjb21wPTAuNjAgcXBtaW49MCBxcG1heD02OSBxcHN0ZXA9NCBpcF9yYXRpbz0xLjQwIGFxPTE6MS4wMACAAAAC2GWIhAA7//72/PwKbVMJ3T//T/lcTdlCBNcwAC0xACIE2JSOxSmL8ClFPPwKZrbU7M3c5KayM+ATEkpXdf/+pgaxLwLon/2tLn8GjZ1AFqSyBWCGmmnyrHC+DA87zW/2bwNtILQ0I347Dy1ch9Sk4N7eFgygAUBBWxWgOFZdMygE/H1vD6/WMe1Ti5H9M+wRpn5oHhTkFmziBlrUQjTghQcyRApFnn6/h2rPyv8SPnuQR3WG8vSl8OFHlqg7vfnG27Au54mRGbFghhkLAKNxHK6EfGsqCWglhj47gZl/OI5Mqf6nX3oATQvg6KlsgZyZDMQUs+6LWyCvtI2NVaSip3j95zxPPggtJ7p06LKmn0LhrikFVdC19QAo7GEbriId4LZqF44dRKFTATBW21Q5cJyIsHT5vtISuTx3vPqMxvG9Nqglcpm2LvTb9QrLywMlt3GeokAB33h8lwTFTdknw/VVw5KHcRQGtDDXfJsQgD8aqFgkIBC2IFHruiUi++rVgbTonmV5vPgRYzmmqizPTfQ8+sMkWY0P2ayL4Y0Jw+WWodv5olOVB/RDmCWR0jnag225U5fP3d6kyjP3jYv4YVRRWgXwVDBEoVEjfwRmKhEmhFpnWLOS0nap7kI5SHALZRtwgcW3DqXwMJuE32whk4xvglXcdx0AkjNKEoiOaHlnucDOKwxBXFho/+eKi3ZN5oRpMLEsDFFJPgz5UY0eGM1rP1SF4kacl+Gu/Zi1qIojCviDQnoRfIzzmZZB1aGkukh6drbK6sFxC8QHL8nASJBCOudYZCqqm6BtnoVxN5OBPyoBbYhABqFbIGrDBSDdttnRoiRUoVKLeAqAYPqL8htINqoUniKirhqUq4wqwxIRPaW1gABrpnKqyacfXa6F8eifBWHljl8oCO5gykH9IbScH52fcKEvDqViDGifIMzqvoi4g+L5RAaplX1ScD/oEDaxAAUi5wwZAAAAJEGaJGxDv/6plgAlDuTdgIx+tgXuA8yyxhTfgUzXEXwKJOaYYAAAABNBnkJ4hf8ALExtyF59FjG3ZDLZAAAAEAGeYXRCvwA7XDAZJb/XFsAAAAAQAZ5jakK/ACa2tdvawySkoQAAAB5BmmhJqEFomUwId//+qZYAD1e0vy8JgZKs5QbtxwkAAAAQQZ6GRREsL/8AElnrXFzwoQAAABABnqV0Qr8AGSAADJLf68fBAAAADwGep2pCvwAYhK2MKzb7QAAAABNBmqxJqEFsmUwId//+qZYAAJWAAAAADEGeykUVLC//AACygQAAABABnul0Qr8AGIsq7vqHISfwAAAAEAGe62pCvwAYhK2MIGpMfaAAAAATQZrwSahBbJlMCHf//qmWAACVgQAAAAxBnw5FFSwv/wAAsoEAAAAQAZ8tdEK/ABiLKu76hyEn8QAAABABny9qQr8AGIStjCBqTH2gAAAAE0GbNEmoQWyZTAh3//6plgAAlYAAAAAMQZ9SRRUsL/8AALKBAAAAEAGfcXRCvwAYiyru+ochJ/AAAAAQAZ9zakK/ABiErYwgakx9oAAAABNBm3hJqEFsmUwId//+qZYAAJWBAAAADEGflkUVLC//AACygAAAABABn7V0Qr8AGIsq7vqHISfxAAAAEAGft2pCvwAYhK2MIGpMfaEAAAAeQZu8SahBbJlMCHf//qmWAA9A6gWiTco3yOhwfQ98AAAAEEGf2kUVLC//ABJaAzXWS8EAAAAQAZ/5dEK/ABkpFlXgRXePgAAAAA8Bn/tqQr8AJra13fd79sEAAAAaQZvgSahBbJlMCHf//qmWAA9XtL+v6+nST4EAAAAQQZ4eRRUsL/8AEloDNdZLwAAAABABnj10Qr8AGSAADJLf68fAAAAADwGeP2pCvwAYhK2MKzb7QQAAABNBmiRJqEFsmUwId//+qZYAAJWAAAAADEGeQkUVLC//AACygQAAABABnmF0Qr8AGIsq7vqHISfwAAAAEAGeY2pCvwAYhK2MIGpMfaEAAAAtQZpoSahBbJlMCG///qeEABNvjp9qvNvVIN8QgL//CVEFmL//CTEfi//1/699AAAAEEGehkUVLC//AAulALcaqi8AAAAPAZ6ldEK/ABiLKu7zdvtBAAAAEAGep2pCvwAPiEAnXgCgUYAAAAAaQZqpSahBbJlMCHf//qmWAAQH48/fsg3FY+AAAAAWQZrNSeEKUmUwIb/+p4QAA17q0gyiYQAAAA5BnutFNEwv/wAB+/3voAAAABABnwp0Qr8ABClSO/AB913AAAAAEAGfDGpCvwAEKVI72ePuu4EAAAASQZsRSahBaJlMCG///qeEAAEnAAAADEGfL0URLC//AACygQAAABABn050Qr8ABClSO/AB913AAAAAEAGfUGpCvwAEKVI72ePuu4AAAAAaQZtSSahBbJlMCHf//qmWAAKp76vrsQbivBEAAAAsQZt2SeEKUmUwIb/+p4QABY/eGAmv8trgULmWWMKX8Cma4g+BRJz8Plm+1c0AAAARQZ+URTRML/8AA0yrRrkCFPAAAAAPAZ+zdEK/AALplgwbMcYfAAAAEAGftWpCvwAEdta7vJKTVcAAAAAaQZu3SahBaJlMCHf//qmWAALJ8gzPvE4/v/EAAAAfQZvbSeEKUmUwIb/+p4QADY+wf4PZmps2oeDgr897gQAAABFBn/lFNEwv/wAH8TmObHO8kAAAAA8Bnhh0Qr8ABxYw8oaBnFEAAAAPAZ4aakK/AAsUbXd93ylgAAAAGkGaHEmoQWiZTAh3//6plgAEZ+PP37INxWDhAAAAFkGaIEnhClJlMCHf/qmWAAHSHT8rbFEAAAAOQZ5eRTRML/8AAitAM+AAAAAQAZ59dEK/AASJUjvwAfdVwAAAABABnn9qQr8ABIlSO9nj7quBAAAAE0GaZEmoQWiZTAh3//6plgAAlYAAAAAMQZ6CRREsL/8AALKBAAAAEAGeoXRCvwAEiVI78AH3VcAAAAAQAZ6jakK/AASJUjvZ4+6rgQAAABJBmqhJqEFsmUwIb//+p4QAAScAAAAMQZ7GRRUsL/8AALKBAAAAEAGe5XRCvwAEiVI78AH3VcEAAAAQAZ7nakK/AASJUjvZ4+6rgAAAABtBmulJqEFsmUwId//+qZYABGEWG6MQl0Zv7QcAAAAoQZsNSeEKUmUwId/+qZYABqvYb5llapqvApRIF4FM1yyP15hif3d+gQAAABBBnytFNEwv/wAHxTqN7Bh0AAAADwGfSnRCvwALF0A6E5MpYAAAABABn0xqQr8ACs2RCbjPr1Z5AAAAGUGbUUmoQWiZTAh3//6plgAGq+FH3xxTI3sAAAAQQZ9vRREsL/8AB8P4q8jKoQAAABABn450Qr8ACxWjvK2UPZXAAAAADwGfkGpCvwAHFr5odaOLgAAAAChBm5VJqEFsmUwIb//+p4QACTfPE5lleMM/Apls7PgUJ3AxqUtvq1y9AAAAEEGfs0UVLC//AAWKfXg176YAAAAPAZ/SdEK/AAcUvQGSXW+AAAAAEAGf1GpCvwAHbZg8lzPlKYEAAAAZQZvWSahBbJlMCHf//qmWAAcdMhJtdnDjcAAAABZBm/pJ4QpSZTAh3/6plgALN76vuh/BAAAADkGeGEU0TC//AA0wi5KhAAAAEAGeN3RCvwAR4QBz+tA5ZMAAAAAQAZ45akK/AAv1ZQxuW+GNIQAAACZBmj5JqEFomUwIb//+p4QADjewfzaXdhtScr8QgL//CVLHn/+ahAAAABVBnlxFESwv/wAIbPWuWS+iyyqz5I0AAAAQAZ57dEK/AAuia0ZJb/YfQQAAABABnn1qQr8AB0AgE68AUHuAAAAAGkGaf0moQWyZTAh3//6plgAB6B0/KaMfrWXAAAAAEkGag0nhClJlMCHf/qmWAACVgQAAAAxBnqFFNEwv/wAAsoAAAAAQAZ7AdEK/AATYQB0LGJx4MQAAABABnsJqQr8ABNbWu7ySk1BgAAAAE0Gax0moQWiZTAh3//6plgAAlYEAAAAMQZ7lRREsL/8AALKBAAAAEAGfBHRCvwAE2EAdCxiceDEAAAAQAZ8GakK/AATW1ru8kpNQYQAAABNBmwtJqEFsmUwId//+qZYAAJWAAAAADEGfKUUVLC//AACygAAAABABn0h0Qr8ABNhAHQsYnHgxAAAAEAGfSmpCvwAE1ta7vJKTUGAAAAATQZtPSahBbJlMCHf//qmWAACVgAAAAAxBn21FFSwv/wAAsoEAAAAQAZ+MdEK/AATYQB0LGJx4MQAAABABn45qQr8ABNbWu7ySk1BhAAAAE0Gbk0moQWyZTAh3//6plgAAlYAAAAAMQZ+xRRUsL/8AALKAAAAAEAGf0HRCvwAE2EAdCxiceDEAAAAQAZ/SakK/AATW1ru8kpNQYAAAABNBm9dJqEFsmUwId//+qZYAAJWAAAAADEGf9UUVLC//AACygQAAABABnhR0Qr8ABNhAHQsYnHgwAAAAEAGeFmpCvwAE1ta7vJKTUGEAAAATQZobSahBbJlMCHf//qmWAACVgQAAAAxBnjlFFSwv/wAAsoAAAAAQAZ5YdEK/AATYQB0LGJx4MQAAABABnlpqQr8ABNbWu7ySk1BgAAAAE0GaX0moQWyZTAh3//6plgAAlYEAAAAMQZ59RRUsL/8AALKBAAAAEAGenHRCvwAE2EAdCxiceDAAAAAQAZ6eakK/AATW1ru8kpNQYAAAACxBmoNJqEFsmUwId//+qZYABOfiecyyxhVXgUzXFTwKJPWwZO3FfWiFpgd9/QAAABZBnqFFFSwv/wAF0oBbIgLLkTuiekbAAAAAEAGewHRCvwAE+zI31+lCeGEAAAAQAZ7CakK/AAfFnhDxoaz9gAAAABtBmsdJqEFsmUwId//+qZYABOEWG6EjH6v0vyEAAAAQQZ7lRRUsL/8ABdGNuRdT4QAAABABnwR0Qr8AB8OGAyS3+ypBAAAADwGfBmpCvwAE+5WBdf5MwQAAABlBmwtJqEFsmUwIb//+p4QACaraXM3up8chAAAAEEGfKUUVLC//AAXRlgnx9sAAAAAQAZ9IdEK/AAfGKtV4EV5UgQAAAA8Bn0pqQr8AB8a+aHWjdoAAAAAbQZtPSahBbJlMCGf//p4QADh+uXWxw2GTZunAAAAAEEGfbUUVLC//AAiufucLMYkAAAAPAZ+MdEK/AAfEvQGSXVuBAAAAEAGfjmpCvwAL87cJuM+vVXkAAAAZQZuQSahBbJlMCG///qeEAA56eFjXIc7jgAAAABlBm7FJ4QpSZTAhv/6nhAAJd8dPqONCQ9lAAAAAG0Gb1UnhDomUwIZ//p4QABf+EupRLznTYsj0gQAAABVBn/NFETwv/wADn/xW0rlciRzt/lgAAAAQAZ4SdEK/AAT5OpPK/JTtkAAAAA8BnhRqQr8AA0xF8zbMjwkAAAAaQZoWSahBaJlMCG///qeEAAX2kT/Vb5j8hcAAAAAZQZo3SeEKUmUwIb/+p4QACSoAs22z7PntQQAAABlBmlhJ4Q6JlMCHf/6plgAHHTISbhwUfOkxAAAAI0GafEnhDyZTAh3//qmWABEeMnL4hBt/+EqoZv//Sku+xyY+AAAAEEGemkURPC//ABR6A06dNCkAAAAPAZ65dEK/ABHhAHQnJiTAAAAAEAGeu2pCvwAbp2o5X9uIDcEAAAAcQZqgSahBaJlMCHf//qmWABEfjz+XZ7ULIUugMwAAABJBnt5FESwv/wAUdlgpb8GTnWYAAAAQAZ79dEK/ABugELgPygAG4AAAABABnv9qQr8AEdeaJkTSs9HBAAAAGUGa5EmoQWyZTAh3//6plgAK776vvjimRgMAAAASQZ8CRRUsL/8AFHtcZrXv6jqnAAAADwGfIXRCvwAbqSzcGyXkZwAAABABnyNqQr8AG6JbTrwBQCmBAAAAHEGbKEmoQWyZTAh3//6plgAHJ9pf2LAdEC3GMrMAAAAQQZ9GRRUsL/8ACG0By8jHIQAAABABn2V0Qr8AC6J1J5X5KcNxAAAADwGfZ2pCvwAHw5w2ByovgAAAABNBm2xJqEFsmUwId//+qZYAAJWAAAAADEGfikUVLC//AACygQAAAA8Bn6l0Qr8AB8WwNDznmIEAAAAPAZ+rakK/AAfDnDRK55iBAAAAJkGbsEmoQWyZTAhv//6nhAAO56w3Msrxhn4FMtnZ8ChSW7eebjSlAAAAEEGfzkUVLC//AAjufs3BEnEAAAAPAZ/tdEK/AAfFsDXXxkCBAAAAEAGf72pCvwAMQ7Utw2bVi4AAAAAZQZvxSahBbJlMCHf//qmWAAd1Yb8q4v5n8AAAAB5BmhVJ4QpSZTAh3/6plgAE5+PP5V/0M48yyvE6GzcAAAAUQZ4zRTRML/8ABdGWCoQmVf/GpnAAAAAQAZ5SdEK/AAfDieKTbJYTgAAAABABnlRqQr8ABPm5DD6AkH2ZAAAAHEGaWUmoQWiZTAh3//6plgAE4X7s9v21AP78DyAAAAASQZ53RREsL/8ABdKBBU8yeSnXAAAAEAGelnRCvwAE+zRInxZioZEAAAAQAZ6YakK/AAfFmDyYHr5UgAAAABlBmp1JqEFsmUwId//+qZYABOfjz+XaM3OHAAAAEEGeu0UVLC//AAXSgQUobhgAAAAPAZ7adEK/AAxFlXd5u69BAAAADwGe3GpCvwAHxB/VIoEsJwAAABJBmsFJqEFsmUwIb//+p4QAAScAAAATQZ7/RRUsL/8AA6ES3KZj5iIscQAAABABnx50Qr8ABPk6k8r8lO2RAAAAEAGfAGpCvwAE+siE3GfXsMgAAAASQZsFSahBbJlMCGf//p4QAAR9AAAAE0GfI0UVLC//AAXRNnJm3Dgl0wwAAAAQAZ9CdEK/AAfGKtV4EV5UgQAAAA8Bn0RqQr8AB8Qf1SKBLCcAAAAaQZtJS6hCEFskRggoB/IB/YeAIV/+OEAAEXEAAAAoQZ9nRRUsL/8CAdzqS9szCrmA6Bq1qFwJQBlok8LfMpIPxeOseSdB2QAAABABn4Z0Qr8ABPk6k8r8lO2QAAAAIwGfiGpCvwKvY+1BxN2qw0km5aqGByy1u80qIJosZ2DYRgM4AAAMcW1vb3YAAABsbXZoZAAAAAAAAAAAAAAAAAAAA+gAAB+QAAEAAAEAAAAAAAAAAAAAAAABAAAAAAAAAAAAAAAAAAAAAQAAAAAAAAAAAAAAAAAAQAAAAAAAAAAAAAAAAAAAAAAAAAAAAAAAAAAAAAAAAAIAAAubdHJhawAAAFx0a2hkAAAAAwAAAAAAAAAAAAAAAQAAAAAAAB+QAAAAAAAAAAAAAAAAAAAAAAABAAAAAAAAAAAAAAAAAAAAAQAAAAAAAAAAAAAAAAAAQAAAAAEQAAABEAAAAAAAJGVkdHMAAAAcZWxzdAAAAAAAAAABAAAfkAAABAAAAQAAAAALE21kaWEAAAAgbWRoZAAAAAAAAAAAAAAAAAAAMgAAAZQAVcQAAAAAAC1oZGxyAAAAAAAAAAB2aWRlAAAAAAAAAAAAAAAAVmlkZW9IYW5kbGVyAAAACr5taW5mAAAAFHZtaGQAAAABAAAAAAAAAAAAAAAkZGluZgAAABxkcmVmAAAAAAAAAAEAAAAMdXJsIAAAAAEAAAp+c3RibAAAAJZzdHNkAAAAAAAAAAEAAACGYXZjMQAAAAAAAAABAAAAAAAAAAAAAAAAAAAAAAEQARAASAAAAEgAAAAAAAAAAQAAAAAAAAAAAAAAAAAAAAAAAAAAAAAAAAAAAAAAAAAAABj//wAAADBhdmNDAfQADf/hABdn9AANkZsoIhHQgAAAAwCAAAAZB4oUywEABmjr48RIRAAAABhzdHRzAAAAAAAAAAEAAADKAAACAAAAABRzdHNzAAAAAAAAAAEAAAABAAAGSGN0dHMAAAAAAAAAxwAAAAEAAAQAAAAAAQAACgAAAAABAAAEAAAAAAEAAAAAAAAAAQAAAgAAAAABAAAKAAAAAAEAAAQAAAAAAQAAAAAAAAABAAACAAAAAAEAAAoAAAAAAQAABAAAAAABAAAAAAAAAAEAAAIAAAAAAQAACgAAAAABAAAEAAAAAAEAAAAAAAAAAQAAAgAAAAABAAAKAAAAAAEAAAQAAAAAAQAAAAAAAAABAAACAAAAAAEAAAoAAAAAAQAABAAAAAABAAAAAAAAAAEAAAIAAAAAAQAACgAAAAABAAAEAAAAAAEAAAAAAAAAAQAAAgAAAAABAAAKAAAAAAEAAAQAAAAAAQAAAAAAAAABAAACAAAAAAEAAAoAAAAAAQAABAAAAAABAAAAAAAAAAEAAAIAAAAAAQAACgAAAAABAAAEAAAAAAEAAAAAAAAAAQAAAgAAAAABAAAEAAAAAAEAAAoAAAAAAQAABAAAAAABAAAAAAAAAAEAAAIAAAAAAQAACgAAAAABAAAEAAAAAAEAAAAAAAAAAQAAAgAAAAABAAAEAAAAAAEAAAoAAAAAAQAABAAAAAABAAAAAAAAAAEAAAIAAAAAAQAABAAAAAABAAAKAAAAAAEAAAQAAAAAAQAAAAAAAAABAAACAAAAAAEAAAQAAAAAAQAACgAAAAABAAAEAAAAAAEAAAAAAAAAAQAAAgAAAAABAAAKAAAAAAEAAAQAAAAAAQAAAAAAAAABAAACAAAAAAEAAAoAAAAAAQAABAAAAAABAAAAAAAAAAEAAAIAAAAAAQAABAAAAAABAAAKAAAAAAEAAAQAAAAAAQAAAAAAAAABAAACAAAAAAEAAAoAAAAAAQAABAAAAAABAAAAAAAAAAEAAAIAAAAAAQAACgAAAAABAAAEAAAAAAEAAAAAAAAAAQAAAgAAAAABAAAEAAAAAAEAAAoAAAAAAQAABAAAAAABAAAAAAAAAAEAAAIAAAAAAQAACgAAAAABAAAEAAAAAAEAAAAAAAAAAQAAAgAAAAABAAAEAAAAAAEAAAoAAAAAAQAABAAAAAABAAAAAAAAAAEAAAIAAAAAAQAACgAAAAABAAAEAAAAAAEAAAAAAAAAAQAAAgAAAAABAAAKAAAAAAEAAAQAAAAAAQAAAAAAAAABAAACAAAAAAEAAAoAAAAAAQAABAAAAAABAAAAAAAAAAEAAAIAAAAAAQAACgAAAAABAAAEAAAAAAEAAAAAAAAAAQAAAgAAAAABAAAKAAAAAAEAAAQAAAAAAQAAAAAAAAABAAACAAAAAAEAAAoAAAAAAQAABAAAAAABAAAAAAAAAAEAAAIAAAAAAQAACgAAAAABAAAEAAAAAAEAAAAAAAAAAQAAAgAAAAABAAAKAAAAAAEAAAQAAAAAAQAAAAAAAAABAAACAAAAAAEAAAoAAAAAAQAABAAAAAABAAAAAAAAAAEAAAIAAAAAAQAACgAAAAABAAAEAAAAAAEAAAAAAAAAAQAAAgAAAAABAAAKAAAAAAEAAAQAAAAAAQAAAAAAAAABAAACAAAAAAIAAAQAAAAAAQAACgAAAAABAAAEAAAAAAEAAAAAAAAAAQAAAgAAAAADAAAEAAAAAAEAAAoAAAAAAQAABAAAAAABAAAAAAAAAAEAAAIAAAAAAQAACgAAAAABAAAEAAAAAAEAAAAAAAAAAQAAAgAAAAABAAAKAAAAAAEAAAQAAAAAAQAAAAAAAAABAAACAAAAAAEAAAoAAAAAAQAABAAAAAABAAAAAAAAAAEAAAIAAAAAAQAACgAAAAABAAAEAAAAAAEAAAAAAAAAAQAAAgAAAAABAAAKAAAAAAEAAAQAAAAAAQAAAAAAAAABAAACAAAAAAEAAAQAAAAAAQAACgAAAAABAAAEAAAAAAEAAAAAAAAAAQAAAgAAAAABAAAKAAAAAAEAAAQAAAAAAQAAAAAAAAABAAACAAAAAAEAAAoAAAAAAQAABAAAAAABAAAAAAAAAAEAAAIAAAAAAQAACgAAAAABAAAEAAAAAAEAAAAAAAAAAQAAAgAAAAABAAAKAAAAAAEAAAQAAAAAAQAAAAAAAAABAAACAAAAAAEAAAoAAAAAAQAABAAAAAABAAAAAAAAAAEAAAIAAAAAHHN0c2MAAAAAAAAAAQAAAAEAAADKAAAAAQAAAzxzdHN6AAAAAAAAAAAAAADKAAAFjgAAACgAAAAXAAAAFAAAABQAAAAiAAAAFAAAABQAAAATAAAAFwAAABAAAAAUAAAAFAAAABcAAAAQAAAAFAAAABQAAAAXAAAAEAAAABQAAAAUAAAAFwAAABAAAAAUAAAAFAAAACIAAAAUAAAAFAAAABMAAAAeAAAAFAAAABQAAAATAAAAFwAAABAAAAAUAAAAFAAAADEAAAAUAAAAEwAAABQAAAAeAAAAGgAAABIAAAAUAAAAFAAAABYAAAAQAAAAFAAAABQAAAAeAAAAMAAAABUAAAATAAAAFAAAAB4AAAAjAAAAFQAAABMAAAATAAAAHgAAABoAAAASAAAAFAAAABQAAAAXAAAAEAAAABQAAAAUAAAAFgAAABAAAAAUAAAAFAAAAB8AAAAsAAAAFAAAABMAAAAUAAAAHQAAABQAAAAUAAAAEwAAACwAAAAUAAAAEwAAABQAAAAdAAAAGgAAABIAAAAUAAAAFAAAACoAAAAZAAAAFAAAABQAAAAeAAAAFgAAABAAAAAUAAAAFAAAABcAAAAQAAAAFAAAABQAAAAXAAAAEAAAABQAAAAUAAAAFwAAABAAAAAUAAAAFAAAABcAAAAQAAAAFAAAABQAAAAXAAAAEAAAABQAAAAUAAAAFwAAABAAAAAUAAAAFAAAABcAAAAQAAAAFAAAABQAAAAwAAAAGgAAABQAAAAUAAAAHwAAABQAAAAUAAAAEwAAAB0AAAAUAAAAFAAAABMAAAAfAAAAFAAAABMAAAAUAAAAHQAAAB0AAAAfAAAAGQAAABQAAAATAAAAHgAAAB0AAAAdAAAAJwAAABQAAAATAAAAFAAAACAAAAAWAAAAFAAAABQAAAAdAAAAFgAAABMAAAAUAAAAIAAAABQAAAAUAAAAEwAAABcAAAAQAAAAEwAAABMAAAAqAAAAFAAAABMAAAAUAAAAHQAAACIAAAAYAAAAFAAAABQAAAAgAAAAFgAAABQAAAAUAAAAHQAAABQAAAATAAAAEwAAABYAAAAXAAAAFAAAABQAAAAWAAAAFwAAABQAAAATAAAAHgAAACwAAAAUAAAAJwAAABRzdGNvAAAAAAAAAAEAAAAwAAAAYnVkdGEAAABabWV0YQAAAAAAAAAhaGRscgAAAAAAAAAAbWRpcmFwcGwAAAAAAAAAAAAAAAAtaWxzdAAAACWpdG9vAAAAHWRhdGEAAAABAAAAAExhdmY1Ni4zNi4xMDA=\" type=\"video/mp4\" />\n",
       "             </video>"
      ],
      "text/plain": [
       "<IPython.core.display.HTML object>"
      ]
     },
     "execution_count": 38,
     "metadata": {},
     "output_type": "execute_result"
    }
   ],
   "source": [
    "# Training\n",
    "env = EnvironmentExploring(grid_size=size, max_time=T, temperature=0.3)\n",
    "agent = DQN_CNN(size, lr=.1, epsilon = 0.2, memory_size=100000, batch_size = 32, n_state=3)\n",
    "epochs_train = 50\n",
    "train_explore(agent, env, epochs_train, prefix='cnn_train_explore')\n",
    "HTML(display_videos('cnn_train_explore10.mp4'))"
   ]
  },
  {
   "cell_type": "code",
   "execution_count": 39,
   "metadata": {},
   "outputs": [
    {
     "name": "stdout",
     "output_type": "stream",
     "text": [
      "evaluate CNN train_explore with epsilon=0.1\n",
      "Win/lose count 13.0/4.0. Average score (9.0)\n",
      "Win/lose count 16.5/3.0. Average score (11.25)\n",
      "Win/lose count 25.5/5.0. Average score (14.333333333333334)\n",
      "Win/lose count 17.0/1.0. Average score (14.75)\n",
      "Win/lose count 11.0/2.0. Average score (13.6)\n",
      "Win/lose count 17.0/8.0. Average score (12.833333333333334)\n",
      "Win/lose count 11.0/1.0. Average score (12.428571428571429)\n",
      "Win/lose count 12.0/3.0. Average score (12.0)\n",
      "Win/lose count 23.0/7.0. Average score (12.444444444444445)\n",
      "Win/lose count 16.0/3.0. Average score (12.5)\n",
      "Win/lose count 13.5/3.0. Average score (12.318181818181818)\n",
      "Win/lose count 8.0/2.0. Average score (11.791666666666666)\n",
      "Win/lose count 22.0/4.0. Average score (12.26923076923077)\n",
      "Win/lose count 14.0/1.0. Average score (12.321428571428571)\n",
      "Win/lose count 17.0/3.0. Average score (12.433333333333334)\n",
      "Win/lose count 17.0/3.0. Average score (12.53125)\n",
      "Win/lose count 13.5/3.0. Average score (12.411764705882353)\n",
      "Win/lose count 17.5/1.0. Average score (12.63888888888889)\n",
      "Win/lose count 16.5/1.0. Average score (12.789473684210526)\n",
      "Win/lose count 13.0/1.0. Average score (12.75)\n",
      "Win/lose count 15.5/1.0. Average score (12.833333333333334)\n",
      "Win/lose count 8.0/3.0. Average score (12.477272727272727)\n",
      "Win/lose count 18.5/7.0. Average score (12.434782608695652)\n",
      "Win/lose count 15.0/5.0. Average score (12.333333333333334)\n",
      "Win/lose count 17.5/3.0. Average score (12.42)\n",
      "Win/lose count 24.0/6.0. Average score (12.634615384615385)\n",
      "Win/lose count 21.5/7.0. Average score (12.703703703703704)\n",
      "Win/lose count 7.5/2.0. Average score (12.446428571428571)\n",
      "Win/lose count 22.0/5.0. Average score (12.60344827586207)\n",
      "Win/lose count 18.0/3.0. Average score (12.683333333333334)\n",
      "Final score: 12.683333333333334\n"
     ]
    },
    {
     "data": {
      "text/html": [
       "<video alt=\"test\" controls>\n",
       "                <source src=\"data:video/mp4;base64,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\" type=\"video/mp4\" />\n",
       "             </video>"
      ],
      "text/plain": [
       "<IPython.core.display.HTML object>"
      ]
     },
     "execution_count": 39,
     "metadata": {},
     "output_type": "execute_result"
    }
   ],
   "source": [
    "# Evaluation\n",
    "print(\"evaluate CNN train_explore with epsilon=0.1\")\n",
    "agent.set_epsilon(0.1)\n",
    "test(agent, env, epochs_test, prefix='cnn_test_explore')\n",
    "HTML(display_videos('cnn_test_explore10.mp4'))"
   ]
  },
  {
   "cell_type": "markdown",
   "metadata": {},
   "source": [
    "We get excellent results by adding these two tricks (12.7 vs 9.2). We can see in the videos that the agent is exploring much more the map and therefore is able to get bigger rewards.\n",
    "\n",
    "Below we try again to disable the exploration."
   ]
  },
  {
   "cell_type": "code",
   "execution_count": 40,
   "metadata": {},
   "outputs": [
    {
     "name": "stdout",
     "output_type": "stream",
     "text": [
      "evaluate CNN train_explore with epsilon=0.0\n",
      "Win/lose count 27.5/1.0. Average score (26.5)\n",
      "Win/lose count 19.0/0. Average score (22.75)\n",
      "Win/lose count 8.0/0. Average score (17.833333333333332)\n",
      "Win/lose count 15.5/2.0. Average score (16.75)\n",
      "Win/lose count 8.5/0. Average score (15.1)\n",
      "Win/lose count 13.5/0. Average score (14.833333333333334)\n",
      "Win/lose count 19.0/0. Average score (15.428571428571429)\n",
      "Win/lose count 13.0/0. Average score (15.125)\n",
      "Win/lose count 4.0/0. Average score (13.88888888888889)\n",
      "Win/lose count 10.0/0. Average score (13.5)\n",
      "Win/lose count 13.5/1.0. Average score (13.409090909090908)\n",
      "Win/lose count 10.0/0. Average score (13.125)\n",
      "Win/lose count 15.0/1.0. Average score (13.192307692307692)\n",
      "Win/lose count 18.5/0. Average score (13.571428571428571)\n",
      "Win/lose count 6.0/0. Average score (13.066666666666666)\n",
      "Win/lose count 14.5/2.0. Average score (13.03125)\n",
      "Win/lose count 7.0/0. Average score (12.676470588235293)\n",
      "Win/lose count 6.0/0. Average score (12.305555555555555)\n",
      "Win/lose count 1.0/0. Average score (11.710526315789474)\n",
      "Win/lose count 9.0/0. Average score (11.575)\n",
      "Win/lose count 3.0/0. Average score (11.166666666666666)\n",
      "Win/lose count 6.5/0. Average score (10.954545454545455)\n",
      "Win/lose count 7.5/0. Average score (10.804347826086957)\n",
      "Win/lose count 18.5/1.0. Average score (11.083333333333334)\n",
      "Win/lose count 18.0/1.0. Average score (11.32)\n",
      "Win/lose count 5.5/0. Average score (11.096153846153847)\n",
      "Win/lose count 2.5/0. Average score (10.777777777777779)\n",
      "Win/lose count 10.5/1.0. Average score (10.732142857142858)\n",
      "Win/lose count 15.5/2.0. Average score (10.827586206896552)\n",
      "Win/lose count 7.0/0. Average score (10.7)\n",
      "Final score: 10.7\n"
     ]
    },
    {
     "data": {
      "text/html": [
       "<video alt=\"test\" controls>\n",
       "                <source src=\"data:video/mp4;base64,AAAAIGZ0eXBpc29tAAACAGlzb21pc28yYXZjMW1wNDEAAAAIZnJlZQAAGHdtZGF0AAACrgYF//+q3EXpvebZSLeWLNgg2SPu73gyNjQgLSBjb3JlIDE0NiByMjUzOCAxMjEzOTZjIC0gSC4yNjQvTVBFRy00IEFWQyBjb2RlYyAtIENvcHlsZWZ0IDIwMDMtMjAxNSAtIGh0dHA6Ly93d3cudmlkZW9sYW4ub3JnL3gyNjQuaHRtbCAtIG9wdGlvbnM6IGNhYmFjPTEgcmVmPTMgZGVibG9jaz0xOjA6MCBhbmFseXNlPTB4MzoweDExMyBtZT1oZXggc3VibWU9NyBwc3k9MSBwc3lfcmQ9MS4wMDowLjAwIG1peGVkX3JlZj0xIG1lX3JhbmdlPTE2IGNocm9tYV9tZT0xIHRyZWxsaXM9MSA4eDhkY3Q9MSBjcW09MCBkZWFkem9uZT0yMSwxMSBmYXN0X3Bza2lwPTEgY2hyb21hX3FwX29mZnNldD00IHRocmVhZHM9MTIgbG9va2FoZWFkX3RocmVhZHM9MiBzbGljZWRfdGhyZWFkcz0wIG5yPTAgZGVjaW1hdGU9MSBpbnRlcmxhY2VkPTAgYmx1cmF5X2NvbXBhdD0wIGNvbnN0cmFpbmVkX2ludHJhPTAgYmZyYW1lcz0zIGJfcHlyYW1pZD0yIGJfYWRhcHQ9MSBiX2JpYXM9MCBkaXJlY3Q9MSB3ZWlnaHRiPTEgb3Blbl9nb3A9MCB3ZWlnaHRwPTIga2V5aW50PTI1MCBrZXlpbnRfbWluPTI1IHNjZW5lY3V0PTQwIGludHJhX3JlZnJlc2g9MCByY19sb29rYWhlYWQ9NDAgcmM9Y3JmIG1idHJlZT0xIGNyZj0yMy4wIHFjb21wPTAuNjAgcXBtaW49MCBxcG1heD02OSBxcHN0ZXA9NCBpcF9yYXRpbz0xLjQwIGFxPTE6MS4wMACAAAACx2WIhAA3//72h/gU2VgTun/9P+C6zp85f52wATTYAUhuYKf7hNF8CmWxa/AoXQMX/3pjkS+vKU/wZ6KIqc+7/yHEB7QsXBJZaMs97DtwT0GhPatx8Gu0fqQbTwToMZvTucoZpEnegRNmB+uF2JKvxxUnC7tpD2HEizQJjfPrfO0E/69rKCFb9+5udDtsF4Z+PFocEe0+CBCjG+lUnxKERB+l2+2jiPrpL+ewp1r3PA68rqw6W5eA4m7kPgopZh6RLsnWUTzypxTlQM7G+nZW3bcURazpsYwVOKbycaZcW5uX5HM+X1y6czZSO6Vr1bUvfBO4c3uwV+GYpKTTI2ZBZVX7ihfYhccy/B5IQfMitiG8Y0ijHTQVVpiZEj4E0lQ5rx4mxf4+YOe6wvuSZI9JN6DpT1x3WnlnxaY2RlwC2+RwfafrfeSG3NFZzoHFxL7AmJgnQjajJJ85Ht2R3rwIqRDFtikHRuTgi1LmGjQlbO1LLwV9wnngErXS0IyZHpfO0dPbCveKxLxphy57lkYgEqLG2hFz5ZoSryEDZinIsrQYPowIwSyAqY0NP76K4CvNt12Yw3CozgM2WVTRTouSQ1iJ33IQF8KpE2IeD491eeu/Qtm31zjJdygsmV1ubVxlgR3/7ocltUfF04yh6a+YVf/EBW5ny8HDLuT2ZHktLU8zitUG+W58/o7/Mh/1sTzjzR8GS81cUp3uejxWXupgi0BxwUKyFe7idJ90K/EIXmKGCR+2pcc0y52EanlWeaOHflzyHYEzft149iwPdZy26OjifBzAC0le0iwB4eD2S30vBRPvDxAMYrA6hMbXppbdZlZdxPce5N98GUJdsUA2POeelnVZyxqtW3rxa2mZj/YIjTCAHRIwcevFxBk/LuSAcMFEhZIJeEXUIPJGRwPIrjFmN5FzHODskOrIX3Gv91aK/KEgqgQCJwAAABlBmiFsQ7/+qZYAB0jf+J7wiHg5LoHD/PO8AAAAIEGaRTwhkymEO//+qZYAB3R2mgpsx+yR33MeyA3eMw6BAAAAFUGeY2pTwv8ACOz1qp0crkTJPIslgAAAABABnoJ0Qr8ADEPJvK2UPYrBAAAADwGehGpCvwAHxBSmbZkcJQAAACNBmolJqEFomUwIb//+p4QAFR3XNfiEAP/4SpY8//810oRIiwAAABVBnqdFESwv/wAMkq8Y3uVyIveeEbEAAAAQAZ7GdEK/AAteaJE+LMUr8AAAABABnshqQr8AEN2iE3GfXqYIAAAAJEGazUmoQWyZTAhv//6nhAAyfrDcyyxMjsel3WQRw+0UodYG4QAAABZBnutFFSwv/wAdtNkNKcfRYxtJMRTwAAAAEAGfCnRCvwAZyTQifFmKQ5gAAAAQAZ8MakK/ACj2EeTA9e55gQAAABxBmw5JqEFsmUwIb//+p4QATVAFm22gMA/v4ithAAAAG0GbMknhClJlMCGf/p4QATb5zfFXeDn+NLCDwQAAABBBn1BFNEwv/wAvypoWomjXAAAADwGfb3RCvwBiLKu7zdrDQAAAABABn3FqQr8AP4rg1x4q2lvhAAAAGUGbc0moQWiZTAhn//6eEADJ+vv5EiPrCh4AAAAYQZuUSeEKUmUwIZ/+nhAAf319/IkR9YWpAAAAGUGbtUnhDomUwIb//qeEABWvdT9RxoSHTcEAAAAYQZvWSeEPJlMCG//+p4QADd+wevZnwRb3AAAAJkGb+knhDyZTAhv//qeEAA2PCZq8ILLLID//hKljz//hDYzvOaLZAAAAFkGeGEURPC//AAfv/2Jwg9nTtYmh6cEAAAAPAZ43dEK/AAsScoUm2SuvAAAAEAGeOWpCvwAKhZEJuM+vVrkAAAAaQZo7SahBaJlMCG///qeEABPfRP9VvmPxVMAAAAArQZpfSeEKUmUwIZ/+nhAAdFKTmt9m4WfnN8tdZ7j/iEojf//EIyVH/91cywAAABVBnn1FNEwv/wAR3Hj6LFdvLQseVpEAAAAQAZ6cdEK/ABiJNCJ8WYpEcAAAAA8Bnp5qQr8AGIJaVIoErB4AAAAZQZqASahBaJlMCGf//p4QAEm+If2yGPrDdwAAABhBmqFJ4QpSZTAhn/6eEAAv/r7u05u4uxwAAAAYQZrCSeEOiZTAhn/+nhAALr8TvtkMfWInAAAAGEGa40nhDyZTAhn//p4QAB3N+GB7jH5nTgAAABhBmwRJ4Q8mUwIb//6nhAAE/91OP8Pq3JsAAAAbQZslSeEPJlMCG//+p4QABNvpdAhPXsz4IydBAAAAH0GbSUnhDyZTAhn//p4QABuV91xHP6R19+0Za+rvJ5EAAAAWQZ9nRRE8L/8ABDc/ctnGKAR+uRogQQAAABABn4Z0Qr8AA8vFFwH2c0NgAAAAEAGfiGpCvwAF0seOV/biRsAAAAAcQZuKSahBaJlMCG///qeEAAsPon+q31UCE/vRoQAAABdBm6tJ4QpSZTAhv/6nhAALVitHVQ230wAAACRBm89J4Q6JlMCGf/6eEABJvi3bcyyz59Y5lLc1L3n8UIKacAQAAAAVQZ/tRRE8L/8AC1z68Bx0zjFnYrP5AAAADwGeDHRCvwAOhGHlDQM2xwAAABABng5qQr8ADzMweS5nybWBAAAAGUGaEEmoQWiZTAhv//6nhAATUfMeRif5bsMAAAAYQZoxSeEKUmUwIb/+p4QAE9xWkEIn+W67AAAAHEGaVUnhDomUwIb//qeEAB5/fZ9qtl1KtALctucAAAAUQZ5zRRE8L/8AElnycWLiCMorAcgAAAAQAZ6SdEK/ABkrKu5DZUpd4AAAABABnpRqQr8AGIJbTrwBQECBAAAAGUGalkmoQWiZTAhv//6nhAAMnwmZXILenMIAAAAZQZq3SeEKUmUwId/+qZYABAerZDbEG7rnwQAAABpBmttJ4Q6JlMCG//6nhAAHwR5nwNvdT9sxgQAAABBBnvlFETwv/wAEtz9zhZz4AAAADwGfGHRCvwAENtGLgPz5wQAAABABnxpqQr8ABpgWNe80rSXAAAAAHUGbH0moQWiZTAhv//6nhAAINI+VTIMQ12w6RaXxAAAAFUGfPUURLC//AAdrdvosV3CDuI4lsQAAABABn1x0Qr8ACj5aoHTtRCGAAAAAEAGfXmpCvwAKO3IYfQEg7lgAAAAZQZtASahBbJlMCG///qeEAAho+Y8jE/y4MQAAABlBm2FJ4QpSZTAh3/6plgAER6tkNsQbuuLAAAAAH0GbhUnhDomUwId//qmWAAap6oALRQiS5F76vIbS3x0AAAARQZ+jRRE8L/8AB8U6PRQvsVQAAAAPAZ/CdEK/AAR20YuA/PXBAAAAEAGfxGpCvwAKzY8cr+3EP0EAAAAfQZvJSahBaJlMCHf//qmWAAari9GFV893mWWfPtU9wQAAABVBn+dFESwv/wAHw/h6p/TOLaeSYGEAAAAQAZ4GdEK/AArKa0ZJb/YnQAAAABABnghqQr8ABsCO3OtDDBRAAAAAHEGaDUmoQWyZTAh3//6plgAD5jqFkJNzT0Y/Tq8AAAAQQZ4rRRUsL/8ABLc/c4Wc+AAAAA8Bnkp0Qr8ABDbRi4D8+cAAAAAQAZ5MakK/AAaYFjXvNK0lwQAAABNBmlFJqEFsmUwId//+qZYAAJWBAAAAE0Geb0UVLC//AAdrdumcV1PYnyUAAAAQAZ6OdEK/AAo+WqB07UQhgAAAABABnpBqQr8ACjtfOdaGF/DAAAAAHEGalUmoQWyZTAh3//6plgAD68XoxNCoFopzOrkAAAAQQZ6zRRUsL/8ABLaA5eRz4AAAABABntJ0Qr8ABpnk3lbKHvbAAAAADwGe1GpCvwAEODWBdf5aQQAAAB5BmtlJqEFsmUwId//+qZYABlnqgAtFCJLkXJ85scAAAAASQZ73RRUsL/8AB206eBN8L+kXAAAAEAGfFnRCvwAGmsq7kNlSruEAAAAQAZ8YakK/AAo9hHkwPXxZgAAAABlBmx1JqEFsmUwId//+qZYABluL0YV6rn7HAAAAEkGfO0UVLC//AAdr+Hv7V/KiLAAAABABn1p0Qr8ACjprRklv9izBAAAAEAGfXGpCvwAGmZua48Vbe2EAAAAZQZtBSahBbJlMCHf//qmWAAPmumR/fV94LwAAABBBn39FFSwv/wAEtz9zhZz4AAAADwGfnnRCvwAENtGLgPz5wQAAABABn4BqQr8ABpgWNe80rSXAAAAAE0GbhUmoQWyZTAh3//6plgAAlYEAAAATQZ+jRRUsL/8AB2t26ZxXU9ifJAAAABABn8J0Qr8ACj5aoHTtRCGBAAAAEAGfxGpCvwAKO1851oYX8MEAAAAcQZvJSahBbJlMCHf//qmWAAPrxejE0KgWinM6uQAAABBBn+dFFSwv/wAEtoDl5HPhAAAAEAGeBnRCvwAGmeTeVsoe9sAAAAAPAZ4IakK/AAQ4NYF1/lpAAAAAHkGaDUmoQWyZTAh3//6plgAGWeqAC0UIkuRcnzmxwQAAABJBnitFFSwv/wAHbTp4E3wv6RYAAAAQAZ5KdEK/AAaayruQ2VKu4AAAABABnkxqQr8ACj2EeTA9fFmBAAAAGUGaUUmoQWyZTAh3//6plgAGW4vRhXqufscAAAASQZ5vRRUsL/8AB2v4e/tX8qItAAAAEAGejnRCvwAKOmtGSW/2LMAAAAAQAZ6QakK/AAaZm5rjxVt7YAAAABlBmpVJqEFsmUwId//+qZYAA+a6ZH99X3gvAAAAEEGes0UVLC//AAS3P3OFnPgAAAAPAZ7SdEK/AAQ20YuA/PnAAAAAEAGe1GpCvwAGmBY17zStJcEAAAATQZrZSahBbJlMCHf//qmWAACVgAAAABNBnvdFFSwv/wAHa3bpnFdT2J8lAAAAEAGfFnRCvwAKPlqgdO1EIYEAAAAQAZ8YakK/AAo7XznWhhfwwAAAABxBmx1JqEFsmUwId//+qZYAA+vF6MTQqBaKczq5AAAAEEGfO0UVLC//AAS2gOXkc+AAAAAQAZ9adEK/AAaZ5N5Wyh72wQAAAA8Bn1xqQr8ABDg1gXX+WkEAAAAeQZtBSahBbJlMCHf//qmWAAZZ6oALRQiS5FyfObHAAAAAEkGff0UVLC//AAdtOngTfC/pFgAAABABn550Qr8ABprKu5DZUq7hAAAAEAGfgGpCvwAKPYR5MD18WYAAAAAZQZuFSahBbJlMCHf//qmWAAZbi9GFeq5+xwAAABJBn6NFFSwv/wAHa/h7+1fyoiwAAAAQAZ/CdEK/AAo6a0ZJb/YswQAAABABn8RqQr8ABpmbmuPFW3thAAAAGUGbyUmoQWyZTAh3//6plgAD5rpkf31feC8AAAAQQZ/nRRUsL/8ABLc/c4Wc+QAAAA8BngZ0Qr8ABDbRi4D8+cAAAAAQAZ4IakK/AAaYFjXvNK0lwAAAABNBmg1JqEFsmUwId//+qZYAAJWBAAAAE0GeK0UVLC//AAdrdumcV1PYnyQAAAAQAZ5KdEK/AAo+WqB07UQhgAAAABABnkxqQr8ACjtfOdaGF/DBAAAAHEGaUUmoQWyZTAh3//6plgAD68XoxNCoFopzOrkAAAAQQZ5vRRUsL/8ABLaA5eRz4QAAABABno50Qr8ABpnk3lbKHvbAAAAADwGekGpCvwAEODWBdf5aQAAAAB5BmpVJqEFsmUwId//+qZYABlnqgAtFCJLkXJ85scEAAAASQZ6zRRUsL/8AB206eBN8L+kWAAAAEAGe0nRCvwAGmsq7kNlSruAAAAAQAZ7UakK/AAo9hHkwPXxZgQAAABlBmtlJqEFsmUwId//+qZYABluL0YV6rn7HAAAAEkGe90UVLC//AAdr+Hv7V/KiLQAAABABnxZ0Qr8ACjprRklv9izBAAAAEAGfGGpCvwAGmZua48Vbe2AAAAAZQZsdSahBbJlMCHf//qmWAAPmumR/fV94LwAAABBBnztFFSwv/wAEtz9zhZz4AAAADwGfWnRCvwAENtGLgPz5wQAAABABn1xqQr8ABpgWNe80rSXBAAAAE0GbQUmoQWyZTAh3//6plgAAlYAAAAATQZ9/RRUsL/8AB2t26ZxXU9ifJAAAABABn550Qr8ACj5aoHTtRCGBAAAAEAGfgGpCvwAKO1851oYX8MAAAAAcQZuFSahBbJlMCHf//qmWAAPrxejE0KgWinM6uQAAABBBn6NFFSwv/wAEtoDl5HPgAAAAEAGfwnRCvwAGmeTeVsoe9sEAAAAPAZ/EakK/AAQ4NYF1/lpBAAAAHkGbyUmoQWyZTAh3//6plgAGWeqAC0UIkuRcnzmxwQAAABJBn+dFFSwv/wAHbTp4E3wv6RcAAAAQAZ4GdEK/AAaayruQ2VKu4AAAABABnghqQr8ACj2EeTA9fFmAAAAAGUGaDUmoQWyZTAh3//6plgAGW4vRhXqufscAAAASQZ4rRRUsL/8AB2v4e/tX8qIsAAAAEAGeSnRCvwAKOmtGSW/2LMAAAAAQAZ5MakK/AAaZm5rjxVt7YQAAABlBmlFJqEFsmUwId//+qZYAA+a6ZH99X3gvAAAAEEGeb0UVLC//AAS3P3OFnPkAAAAPAZ6OdEK/AAQ20YuA/PnAAAAAEAGekGpCvwAGmBY17zStJcAAAAATQZqVSahBbJlMCHf//qmWAACVgQAAABNBnrNFFSwv/wAHa3bpnFdT2J8kAAAAEAGe0nRCvwAKPlqgdO1EIYAAAAAQAZ7UakK/AAo7XznWhhfwwQAAABxBmtlJqEFsmUwId//+qZYAA+vF6MTQqBaKczq4AAAAEEGe90UVLC//AAS2gOXkc+EAAAAQAZ8WdEK/AAaZ5N5Wyh72wQAAAA8BnxhqQr8ABDg1gXX+WkAAAAAeQZsdSahBbJlMCHf//qmWAAZZ6oALRQiS5FyfObHBAAAAEkGfO0UVLC//AAdtOngTfC/pFgAAABABn1p0Qr8ABprKu5DZUq7hAAAAEAGfXGpCvwAKPYR5MD18WYEAAAAZQZtBSahBbJlMCG///qeEAAyfCZmoBZtbHAAAABJBn39FFSwv/wAHa/h7+1fyoiwAAAAQAZ+edEK/AAo6a0ZJb/YswQAAABABn4BqQr8ABpmbmuPFW3tgAAAAGUGbhUmoQWyZTAhn//6eEAAeVCPkdff05aEAAAAQQZ+jRRUsL/8ABLc/c4Wc+AAAAA8Bn8J0Qr8ABDbRi4D8+cEAAAAQAZ/EakK/AAaYFjXvNK0lwQAAABpBm8lLqEIQWyRGCCgH8gH9h4AhX/44QAARcQAAACpBn+dFFSwv/wIB3OpL2zMKuYDoGrWoXAlAGWiTwt9xwY51x1HE86njZkEAAAAQAZ4GdEK/AAo+WqB07UQhgAAAACUBnghqQr8Cr2PtQcTdqsNJJuWqhgcstbvNKiCiC1XhL97Q7nqAAAAMIW1vb3YAAABsbXZoZAAAAAAAAAAAAAAAAAAAA+gAAB+QAAEAAAEAAAAAAAAAAAAAAAABAAAAAAAAAAAAAAAAAAAAAQAAAAAAAAAAAAAAAAAAQAAAAAAAAAAAAAAAAAAAAAAAAAAAAAAAAAAAAAAAAAIAAAtLdHJhawAAAFx0a2hkAAAAAwAAAAAAAAAAAAAAAQAAAAAAAB+QAAAAAAAAAAAAAAAAAAAAAAABAAAAAAAAAAAAAAAAAAAAAQAAAAAAAAAAAAAAAAAAQAAAAAEQAAABEAAAAAAAJGVkdHMAAAAcZWxzdAAAAAAAAAABAAAfkAAABAAAAQAAAAAKw21kaWEAAAAgbWRoZAAAAAAAAAAAAAAAAAAAMgAAAZQAVcQAAAAAAC1oZGxyAAAAAAAAAAB2aWRlAAAAAAAAAAAAAAAAVmlkZW9IYW5kbGVyAAAACm5taW5mAAAAFHZtaGQAAAABAAAAAAAAAAAAAAAkZGluZgAAABxkcmVmAAAAAAAAAAEAAAAMdXJsIAAAAAEAAAouc3RibAAAAJZzdHNkAAAAAAAAAAEAAACGYXZjMQAAAAAAAAABAAAAAAAAAAAAAAAAAAAAAAEQARAASAAAAEgAAAAAAAAAAQAAAAAAAAAAAAAAAAAAAAAAAAAAAAAAAAAAAAAAAAAAABj//wAAADBhdmNDAfQADf/hABdn9AANkZsoIhHQgAAAAwCAAAAZB4oUywEABmjr48RIRAAAABhzdHRzAAAAAAAAAAEAAADKAAACAAAAABRzdHNzAAAAAAAAAAEAAAABAAAF+GN0dHMAAAAAAAAAvQAAAAIAAAQAAAAAAQAACgAAAAABAAAEAAAAAAEAAAAAAAAAAQAAAgAAAAABAAAKAAAAAAEAAAQAAAAAAQAAAAAAAAABAAACAAAAAAEAAAoAAAAAAQAABAAAAAABAAAAAAAAAAEAAAIAAAAAAQAABAAAAAABAAAKAAAAAAEAAAQAAAAAAQAAAAAAAAABAAACAAAAAAQAAAQAAAAAAQAACgAAAAABAAAEAAAAAAEAAAAAAAAAAQAAAgAAAAABAAAEAAAAAAEAAAoAAAAAAQAABAAAAAABAAAAAAAAAAEAAAIAAAAABgAABAAAAAABAAAKAAAAAAEAAAQAAAAAAQAAAAAAAAABAAACAAAAAAIAAAQAAAAAAQAACgAAAAABAAAEAAAAAAEAAAAAAAAAAQAAAgAAAAACAAAEAAAAAAEAAAoAAAAAAQAABAAAAAABAAAAAAAAAAEAAAIAAAAAAgAABAAAAAABAAAKAAAAAAEAAAQAAAAAAQAAAAAAAAABAAACAAAAAAEAAAoAAAAAAQAABAAAAAABAAAAAAAAAAEAAAIAAAAAAgAABAAAAAABAAAKAAAAAAEAAAQAAAAAAQAAAAAAAAABAAACAAAAAAEAAAoAAAAAAQAABAAAAAABAAAAAAAAAAEAAAIAAAAAAQAACgAAAAABAAAEAAAAAAEAAAAAAAAAAQAAAgAAAAABAAAKAAAAAAEAAAQAAAAAAQAAAAAAAAABAAACAAAAAAEAAAoAAAAAAQAABAAAAAABAAAAAAAAAAEAAAIAAAAAAQAACgAAAAABAAAEAAAAAAEAAAAAAAAAAQAAAgAAAAABAAAKAAAAAAEAAAQAAAAAAQAAAAAAAAABAAACAAAAAAEAAAoAAAAAAQAABAAAAAABAAAAAAAAAAEAAAIAAAAAAQAACgAAAAABAAAEAAAAAAEAAAAAAAAAAQAAAgAAAAABAAAKAAAAAAEAAAQAAAAAAQAAAAAAAAABAAACAAAAAAEAAAoAAAAAAQAABAAAAAABAAAAAAAAAAEAAAIAAAAAAQAACgAAAAABAAAEAAAAAAEAAAAAAAAAAQAAAgAAAAABAAAKAAAAAAEAAAQAAAAAAQAAAAAAAAABAAACAAAAAAEAAAoAAAAAAQAABAAAAAABAAAAAAAAAAEAAAIAAAAAAQAACgAAAAABAAAEAAAAAAEAAAAAAAAAAQAAAgAAAAABAAAKAAAAAAEAAAQAAAAAAQAAAAAAAAABAAACAAAAAAEAAAoAAAAAAQAABAAAAAABAAAAAAAAAAEAAAIAAAAAAQAACgAAAAABAAAEAAAAAAEAAAAAAAAAAQAAAgAAAAABAAAKAAAAAAEAAAQAAAAAAQAAAAAAAAABAAACAAAAAAEAAAoAAAAAAQAABAAAAAABAAAAAAAAAAEAAAIAAAAAAQAACgAAAAABAAAEAAAAAAEAAAAAAAAAAQAAAgAAAAABAAAKAAAAAAEAAAQAAAAAAQAAAAAAAAABAAACAAAAAAEAAAoAAAAAAQAABAAAAAABAAAAAAAAAAEAAAIAAAAAAQAACgAAAAABAAAEAAAAAAEAAAAAAAAAAQAAAgAAAAABAAAKAAAAAAEAAAQAAAAAAQAAAAAAAAABAAACAAAAAAEAAAoAAAAAAQAABAAAAAABAAAAAAAAAAEAAAIAAAAAAQAACgAAAAABAAAEAAAAAAEAAAAAAAAAAQAAAgAAAAABAAAKAAAAAAEAAAQAAAAAAQAAAAAAAAABAAACAAAAAAEAAAoAAAAAAQAABAAAAAABAAAAAAAAAAEAAAIAAAAAAQAACgAAAAABAAAEAAAAAAEAAAAAAAAAAQAAAgAAAAABAAAKAAAAAAEAAAQAAAAAAQAAAAAAAAABAAACAAAAAAEAAAoAAAAAAQAABAAAAAABAAAAAAAAAAEAAAIAAAAAAQAACgAAAAABAAAEAAAAAAEAAAAAAAAAAQAAAgAAAAABAAAKAAAAAAEAAAQAAAAAAQAAAAAAAAABAAACAAAAABxzdHNjAAAAAAAAAAEAAAABAAAAygAAAAEAAAM8c3RzegAAAAAAAAAAAAAAygAABX0AAAAdAAAAJAAAABkAAAAUAAAAEwAAACcAAAAZAAAAFAAAABQAAAAoAAAAGgAAABQAAAAUAAAAIAAAAB8AAAAUAAAAEwAAABQAAAAdAAAAHAAAAB0AAAAcAAAAKgAAABoAAAATAAAAFAAAAB4AAAAvAAAAGQAAABQAAAATAAAAHQAAABwAAAAcAAAAHAAAABwAAAAfAAAAIwAAABoAAAAUAAAAFAAAACAAAAAbAAAAKAAAABkAAAATAAAAFAAAAB0AAAAcAAAAIAAAABgAAAAUAAAAFAAAAB0AAAAdAAAAHgAAABQAAAATAAAAFAAAACEAAAAZAAAAFAAAABQAAAAdAAAAHQAAACMAAAAVAAAAEwAAABQAAAAjAAAAGQAAABQAAAAUAAAAIAAAABQAAAATAAAAFAAAABcAAAAXAAAAFAAAABQAAAAgAAAAFAAAABQAAAATAAAAIgAAABYAAAAUAAAAFAAAAB0AAAAWAAAAFAAAABQAAAAdAAAAFAAAABMAAAAUAAAAFwAAABcAAAAUAAAAFAAAACAAAAAUAAAAFAAAABMAAAAiAAAAFgAAABQAAAAUAAAAHQAAABYAAAAUAAAAFAAAAB0AAAAUAAAAEwAAABQAAAAXAAAAFwAAABQAAAAUAAAAIAAAABQAAAAUAAAAEwAAACIAAAAWAAAAFAAAABQAAAAdAAAAFgAAABQAAAAUAAAAHQAAABQAAAATAAAAFAAAABcAAAAXAAAAFAAAABQAAAAgAAAAFAAAABQAAAATAAAAIgAAABYAAAAUAAAAFAAAAB0AAAAWAAAAFAAAABQAAAAdAAAAFAAAABMAAAAUAAAAFwAAABcAAAAUAAAAFAAAACAAAAAUAAAAFAAAABMAAAAiAAAAFgAAABQAAAAUAAAAHQAAABYAAAAUAAAAFAAAAB0AAAAUAAAAEwAAABQAAAAXAAAAFwAAABQAAAAUAAAAIAAAABQAAAAUAAAAEwAAACIAAAAWAAAAFAAAABQAAAAdAAAAFgAAABQAAAAUAAAAHQAAABQAAAATAAAAFAAAAB4AAAAuAAAAFAAAACkAAAAUc3RjbwAAAAAAAAABAAAAMAAAAGJ1ZHRhAAAAWm1ldGEAAAAAAAAAIWhkbHIAAAAAAAAAAG1kaXJhcHBsAAAAAAAAAAAAAAAALWlsc3QAAAAlqXRvbwAAAB1kYXRhAAAAAQAAAABMYXZmNTYuMzYuMTAw\" type=\"video/mp4\" />\n",
       "             </video>"
      ],
      "text/plain": [
       "<IPython.core.display.HTML object>"
      ]
     },
     "execution_count": 40,
     "metadata": {},
     "output_type": "execute_result"
    }
   ],
   "source": [
    "# Evaluation\n",
    "print(\"evaluate CNN train_explore with epsilon=0.0\")\n",
    "agent.set_epsilon(0.)\n",
    "test(agent, env, epochs_test, prefix='cnn_test_explore')\n",
    "HTML(display_videos('cnn_test_explore10.mp4'))"
   ]
  },
  {
   "cell_type": "markdown",
   "metadata": {},
   "source": [
    "We get better results with `epsilon=0.` than `epsilon=0.1`. This is probably because the randomness brought by the non zero `epsilon` helps to get out of deadlock situations and therefore explore the entire map."
   ]
  },
  {
   "cell_type": "markdown",
   "metadata": {},
   "source": [
    "***\n",
    "***\n",
    "__BONUS question__ Use the expert DQN from the previous question to generate some winning games. Train a model that mimicks its behavior. Compare the performances."
   ]
  },
  {
   "cell_type": "markdown",
   "metadata": {},
   "source": []
  },
  {
   "cell_type": "markdown",
   "metadata": {},
   "source": [
    "***"
   ]
  }
 ],
 "metadata": {
  "kernelspec": {
   "display_name": "Python 3",
   "language": "python",
   "name": "python3"
  },
  "language_info": {
   "codemirror_mode": {
    "name": "ipython",
    "version": 3
   },
   "file_extension": ".py",
   "mimetype": "text/x-python",
   "name": "python",
   "nbconvert_exporter": "python",
   "pygments_lexer": "ipython3",
   "version": "3.6.7"
  }
 },
 "nbformat": 4,
 "nbformat_minor": 2
}
